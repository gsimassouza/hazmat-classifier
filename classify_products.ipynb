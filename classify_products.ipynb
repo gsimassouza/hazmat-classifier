{
 "cells": [
  {
   "cell_type": "markdown",
   "id": "4bac923f",
   "metadata": {},
   "source": [
    "# Products classification through AI\n",
    "In this notebook, I get the products information contained in the csv file and the intention is to classify each one as Hazmat (Hazardous Material) or not. \n"
   ]
  },
  {
   "cell_type": "markdown",
   "id": "2d9eef94",
   "metadata": {},
   "source": [
    "## Classify products based on the data obtained (title and attributes from ML API)\n",
    "Given that I am using Groq/Gemini for free tier, I'll classify the products in batches of 50 products per LLM call. The amount of products in the same batch must be optimized for improvement."
   ]
  },
  {
   "cell_type": "code",
   "execution_count": 1,
   "id": "3f05e9a5",
   "metadata": {},
   "outputs": [],
   "source": [
    "from pydantic import BaseModel, Field\n",
    "from typing import List, Optional\n",
    "from enum import Enum\n",
    "\n",
    "# Important definitions\n",
    "\n",
    "class Confidence(Enum):\n",
    "    LOW = \"low\"\n",
    "    MEDIUM = \"medium\"\n",
    "    HIGH = \"high\"\n",
    "\n",
    "class HazmatClassification(BaseModel):\n",
    "    product_id: str = Field(..., description=\"The unique identifier of the product.\")\n",
    "    is_hazmat: bool = Field(..., description=\"Indicates whether the product is classified as a Hazmat.\")\n",
    "    reason: str = Field(None, description=\"The reason for the classification, if the product is a Hazmat.\")\n",
    "    confidence: Confidence = Field(None, description=\"The confidence level of the classification, if the product is a Hazmat.\")\n",
    "\n",
    "DATASET = 'dataset_1'"
   ]
  },
  {
   "cell_type": "code",
   "execution_count": 2,
   "id": "6260c831",
   "metadata": {},
   "outputs": [],
   "source": [
    "# Get hazmat definition from validated file\n",
    "with open(\"data/hazmat-definition.md\", \"r\", encoding='utf8') as f:\n",
    "    hazmat_def = f.read()\n",
    "\n",
    "# Get products information from csv file\n",
    "import pandas as pd\n",
    "products_df = pd.read_csv(f\"data/{DATASET}/{DATASET}.csv\") \n",
    "\n",
    "batch_size = 100\n",
    "\n",
    "# # Review only products without classification\n",
    "# products_df = products_df[products_df['IS_HAZMAT'].isna()].reset_index(drop=True)\n",
    "\n",
    "# drop columns that are not needed for classification\n",
    "products_df.drop(columns=['IS_HAZMAT', 'REASON', 'CONFIDENCE'], inplace=True, errors='ignore')"
   ]
  },
  {
   "cell_type": "code",
   "execution_count": 3,
   "id": "054d2941",
   "metadata": {},
   "outputs": [
    {
     "data": {
      "application/vnd.microsoft.datawrangler.viewer.v0+json": {
       "columns": [
        {
         "name": "index",
         "rawType": "int64",
         "type": "integer"
        },
        {
         "name": "PRODUCT_ID",
         "rawType": "object",
         "type": "string"
        },
        {
         "name": "TITLE",
         "rawType": "object",
         "type": "string"
        },
        {
         "name": "ATTRIBUTES",
         "rawType": "object",
         "type": "string"
        },
        {
         "name": "SOURCE_FILE",
         "rawType": "object",
         "type": "string"
        }
       ],
       "ref": "ab00a1ac-e26a-4f56-8722-d0ee99166add",
       "rows": [
        [
         "0",
         "MLB29523289",
         "Base Estrela Secretaria Em Aço C/ Rodízios E Capa Plástica",
         "{'Marca': 'cadeira giratória diretora', 'Fabricante': 'gamer escritório ajustavél', 'Modelo': 'Aço Nylon PP', 'Cor': 'Preto', 'Quantidade de assentos': '0', 'Material do assento': 'Não tem', 'Materiais da estrutura': 'Ferro, Plástico', 'Com compartimento para livros': 'Não', 'Requer montagem': 'Não'}",
         "info_products_10_escritório.json"
        ],
        [
         "1",
         "MLB34230359",
         "Escrivaninha Office Nt2105 Notável Móveis Cor Freijó Trend",
         "{'Marca': 'Notável Móveis', 'Modelo': 'NT2105', 'Comprimento': '123 cm', 'Cor': 'Freijó Trend', 'Capacidade em peso': '20 kg', 'Materiais da escrivaninha': 'MDP', 'Requer montagem': 'Sim', 'Com gavetas': 'Não', 'Inclui estante para livros': 'Sim', 'É flutuante': 'Não', 'É em forma de L': 'Não', 'É gamer': 'Não', 'Com luzes LED': 'Não'}",
         "info_products_10_escritório.json"
        ],
        [
         "2",
         "MLB15904595",
         "Cadeira de Escritório Mymax Gamer MX5 Cor Preto",
         "{'Marca': 'Mymax', 'Linha': 'Gamer', 'Modelo': 'MX5', 'Cor': 'Preto', 'Material do estofamento': 'Tecido sintético PU', 'Unidades por kit': '1', 'Modelo detalhado': 'MGCH-MX5/BK', 'Cor principal': 'Preto', 'Cor filtrável': 'Preto', 'Tipo de cadeira de escritório': 'Gamer', 'Materiais da estrutura': 'Metal', 'Materiais do enchimento': 'Espuma', 'Altura do encosto': '83 cm', 'Profundidade do assento': '53 cm', 'Largura da cadeira': '68 cm', 'Altura máxima da cadeira': '137 cm', 'Peso máximo suportado': '150 kg', 'Requer montagem': 'Sim', 'Com altura ajustável': 'Sim', 'Com aro para pés': 'Não', 'Com apoio de braços': 'Sim', 'Com encosto reclinável': 'Sim', 'Com rodas': 'Sim', 'Com luzes': 'Não', 'Com apoio de braços ajustável': 'Sim', 'Com apoio de cabeça': 'Sim', 'Com apoio de pés': 'Não', 'É gamer': 'Sim', 'É ergonômica': 'Sim', 'É giratória': 'Sim', 'Inclui manual de montagem': 'Sim', 'Tipo de apoio lombar': 'Regulável', 'Acabamento da estrutura': 'Cromado', 'Tipos de mecanismos de reclinação': 'Encosto reclinável, Basculante', 'Faixa de inclinação do encosto': '90 ° x 180 °', 'Profundidade da cadeira': '32 cm', 'Diâmetro da base': '70 cm', 'Peso da cadeira': '30 kg', 'Largura do assento': '34 cm', 'Altura mínima do chão ao assento': '45 cm', 'Altura máxima do chão ao assento\\r': '55 cm', 'Altura mínima da cadeira': '127 cm', 'MPN': '25.009173'}",
         "info_products_10_escritório.json"
        ],
        [
         "3",
         "MLB26801865",
         "Marmita Dupla Camada Á Prova De Vazamento Imediato",
         "{'Marca': 'Marmita,Lancheira,Escritorio', 'Modelo': 'Marmita dupla', 'Cor': 'Azul', 'Formato de venda': 'Unidade', 'Unidades por kit': '1', 'Unidades por embalagem': '1', 'Capacidade em volume': '1.2 L', 'Material': 'Plástico', 'Forma': 'Retangular', 'Comprimento': '21 cm', 'Largura': '15 cm', 'Altura': '8 cm', 'Diâmetro': '20 cm', 'É hermético': 'Sim', 'É apto para micro-ondas': 'Sim', 'É apto para lava-louças': 'Sim', 'Com tampa': 'Sim', 'Tipo de tampa': 'Hermética'}",
         "info_products_10_escritório.json"
        ],
        [
         "4",
         "MLB22522670",
         "Cadeira de escritório TGTTGT-OFC-001 TGT ergonômica  preta com estofado de malha",
         "{'Marca': 'TGT', 'Linha': 'cadeira fixa escritorio', 'Modelo': 'TGT-OFC-001', 'Modelo alfanumérico': 'TS100', 'Cor': 'Preto', 'Material do estofamento': 'Malha', 'Formato de venda': 'Unidade', 'Unidades por kit': '1', 'Modelo detalhado': 'TGT-OFC-001', 'Cor principal': 'Preto', 'Tipo de cadeira de escritório': 'Escritório', 'Materiais da estrutura': 'Aço', 'Materiais do enchimento': 'Espuma', 'Materiais do aro para pés': 'Metal', 'Altura do encosto': '49 cm', 'Profundidade do assento': '49 cm', 'Largura da cadeira': '47 cm', 'Altura máxima da cadeira': '98 cm', 'Peso máximo suportado': '100 kg', 'Requer montagem': 'Sim', 'Com altura ajustável': 'Sim', 'Com aro para pés': 'Não', 'Com apoio de braços': 'Sim', 'Com encosto reclinável': 'Não', 'Com rodas': 'Sim', 'Com luzes': 'Não', 'Com apoio de braços ajustável': 'Não', 'Com apoio de cabeça': 'Não', 'Com apoio de pés': 'Não', 'É gamer': 'Não', 'É ergonômica': 'Sim', 'É giratória': 'Sim', 'Tipo de apoio lombar': 'Fixo', 'Acabamento da estrutura': 'aço', 'Altura da cadeira': '98 cm', 'Profundidade da cadeira': '47 cm', 'Diâmetro da base': '58 cm', 'Peso da cadeira': '8 kg', 'Largura do assento': '49 cm', 'Largura do encosto': '48 cm', 'Altura mínima do chão ao assento': '42 cm', 'Altura máxima do chão ao assento\\r': '50 cm', 'Altura mínima da cadeira': '42 cm'}",
         "info_products_10_escritório.json"
        ],
        [
         "5",
         "MLB18953767",
         "Escrivaninha Tecno Mobili ME4116 mdp de 1.573m x 745mm x 600mm x 1573mm preto BP",
         "{'Marca': 'Tecno Mobili', 'Modelo': 'ME4116', 'Comprimento': '157.3 cm', 'Profundidade': '60 cm', 'Largura': '157.3 cm', 'Altura': '74.5 cm', 'Cor': 'Preto', 'Cor principal': 'Preto', 'Materiais da escrivaninha': 'MDP', 'Estilo': 'Moderno', 'Requer montagem': 'Sim', 'Com gavetas': 'Não', 'Quantidade de gavetas': '0', 'Inclui estante para livros': 'Não', 'É flutuante': 'Não', 'É em forma de L': 'Sim', 'É gamer': 'Não', 'Com luzes LED': 'Não', 'Inclui manual de instruções': 'Sim', 'Inclui kit de instalação': 'Sim', 'Peso': '37.1 kg', 'Acabamentos': 'BP', 'Com portas': 'Não', 'Com fechadura': 'Não', 'Inclui chaves': 'Não', 'Com prateleiras': 'Não', 'Quantidade de prateleiras': '0', 'Com prateleira para CPU': 'Não'}",
         "info_products_10_escritório.json"
        ],
        [
         "6",
         "MLB25889762",
         "Stark Mesa Pc Gamer Escrivaninha Notebook 1 Gaveta para Escritorio Quarto Pequena Bcg Cor Preto",
         "{'Marca': 'Stark', 'Modelo': 'Escrivaninha Gaveta Móveis', 'Comprimento': '70 cm', 'Profundidade': '40 cm', 'Largura': '70 cm', 'Altura': '78 cm', 'Cor': 'Preto', 'Cor principal': 'Preto', 'Capacidade em peso': '35 kg', 'Materiais da escrivaninha': 'Mdp', 'Estilo': 'Moderno', 'Tempo de montagem': '20 m', 'Requer montagem': 'Sim', 'Com gavetas': 'Sim', 'Quantidade de gavetas': '1', 'Inclui estante para livros': 'Sim', 'É flutuante': 'Não', 'É em forma de L': 'Não', 'É gamer': 'Sim', 'Com luzes LED': 'Não', 'Inclui manual de instruções': 'Sim', 'Inclui kit de instalação': 'Sim', 'Com portas': 'Não', 'Com fechadura': 'Não', 'Inclui chaves': 'Não', 'Com prateleiras': 'Sim', 'Quantidade de prateleiras': '1', 'Com prateleira para CPU': 'Não', 'Com rodas': 'Não', 'Com bandeja móvel': 'Sim'}",
         "info_products_10_escritório.json"
        ],
        [
         "7",
         "MLB41107171",
         "Kit 2 Cadeiras Esteirinha Interlocutor Secretária Pés Fixos Cor Preto",
         "{'Marca': 'Mm Home', 'Linha': 'Cadeira Para Escritório', 'Modelo': 'Cadeira office gamer top', 'Modelo alfanumérico': 'JH716', 'Cor': 'Preto', 'Material do estofamento': 'Couro sintético', 'Formato de venda': 'Kit', 'Unidades por kit': '2', 'Modelo detalhado': 'Escritório', 'Cor principal': 'Preto', 'Tipo de cadeira de escritório': 'Fixa', 'Materiais da estrutura': 'Metal', 'Materiais do enchimento': 'Espuma', 'Com altura ajustável': 'Não', 'Com aro para pés': 'Não', 'Com apoio de braços': 'Sim', 'Com encosto reclinável': 'Não', 'Com rodas': 'Não', 'Com luzes': 'Não', 'Com apoio de braços ajustável': 'Não', 'Com apoio de cabeça': 'Não', 'Com apoio de pés': 'Não', 'É gamer': 'Não', 'É ergonômica': 'Sim', 'É giratória': 'Não', 'Tipo de apoio lombar': 'Fixo', 'Acabamento da estrutura': 'Cromado', 'Altura da cadeira': '139 cm', 'Altura mínima do chão ao assento': '40 cm', 'Altura máxima do chão ao assento\\r': '50 cm'}",
         "info_products_10_escritório.json"
        ],
        [
         "8",
         "MLB22508518",
         "Escrivaninha Com Gaveta Ofertamo Compact Not 70cm Off White",
         "{'Marca': 'Ofertamo', 'Modelo': 'Ofertamo Compact 70Cm', 'Largura': '68 cm', 'Altura': '77 cm', 'Cor': 'Cinza-escuro', 'Materiais da escrivaninha': 'MDF', 'Com gavetas': 'Sim', 'MPN': 'Escrivaninha com gaveta ofertamo compact not 70cm off white/'}",
         "info_products_10_escritório.json"
        ],
        [
         "9",
         "MLB23546531",
         "Câmera Segurança Tomada 360 Wifi Ip Full Hd Visão Noturna",
         "{'Marca': 'Smart', 'Linha': 'Smart IP E27', 'Modelo': 'E27', 'Cor': 'WI-FI', 'Unidades por kit': '1', 'Tipo de câmera de vigilância': 'IP', 'Qualidade de resoluçao': '2MP', 'Tipo de resolução': 'HD', 'Lugares de montagem': 'Casa, Cozinha, Escritório, Quarto, Sala', 'Conectividade': 'Wifi 2.4g', 'Tipos de conexões': 'Wifi2.4', 'Localizações da câmera': 'Interior', 'Campo visual': '360 °', 'É motorizada': 'Sim', 'Tipo de movimento': 'PTZ', 'Zoom óptico': '2x', 'Zoom digital': '2x', 'Com visão noturna': 'Sim', 'Com visão noturna colorida': 'Sim', 'Temperatura mínima suportada': '60 °C', 'Temperatura máxima suportada': '0 °C', 'Formato da câmera espiã': 'Foco', 'Potência': '3 W', 'Com sensor de movimento': 'Sim', 'Com alerta à móvel': 'Sim', 'Com alarme': 'Sim', 'Com áudio bidirecional': 'Sim', 'Com microfone': 'Sim', 'Com vídeo ao vivo': 'Sim', 'Com redução de ruído': 'Sim', 'É resistente à água': 'Não'}",
         "info_products_10_escritório.json"
        ],
        [
         "10",
         "MLB44809994",
         "Estante Para Livros Industrial Livreiro Com Prateleiras De Madeira E Estrutura De Ferro Design Moderno Para Escritório Mod: Etranger 3.0",
         "{'Marca': 'Sofa Sogude', 'Modelo': 'Etrang3er', 'Cor': 'Lamina com Preto', 'Cor principal': 'Preto', 'Acabamento': 'Fosco', 'Estilo': 'Industrial', 'Material da estrutura': 'Ferro', 'Material das prateleiras': 'Madeira', 'Quantidade de prateleiras': '5', 'Altura': '189 cm', 'Largura': '80 cm', 'Profundidade': '36 cm', 'Requer montagem': 'Sim'}",
         "info_products_10_escritório.json"
        ],
        [
         "11",
         "MLB19582938",
         "Cadeira De Escritório Presidente Cor Branco Ergonômica Executiva Giratória Acabamento em Couro Sintético e Madeira Premium Fratini Kopenhagen",
         "{'Marca': 'Fratini', 'Modelo': 'Kopenhagen presidente', 'Cor': 'Branco', 'Material do estofamento': 'Couro sintético', 'Unidades por kit': '1', 'Cor principal': 'Branco', 'Tipo de cadeira de escritório': 'Executiva', 'Materiais da estrutura': 'Madeira', 'Materiais do enchimento': 'Espuma', 'Altura do encosto': '54 cm', 'Profundidade do assento': '50 cm', 'Largura da cadeira': '63 cm', 'Altura máxima da cadeira': '124 cm', 'Peso máximo suportado': '120 kg', 'Requer montagem': 'Sim', 'Com altura ajustável': 'Sim', 'Com aro para pés': 'Não', 'Com apoio de braços': 'Sim', 'Com encosto reclinável': 'Sim', 'Com rodas': 'Sim', 'Com apoio de cabeça': 'Sim', 'Com apoio de pés': 'Não', 'É gamer': 'Não', 'É ergonômica': 'Sim', 'É giratória': 'Sim', 'Tipo de apoio lombar': 'Fixo', 'Acabamento da estrutura': 'Cromado', 'Tipos de mecanismos de reclinação': 'Encosto reclinável', 'Profundidade da cadeira': '63 cm', 'Peso da cadeira': '4.41 kg', 'Largura do assento': '49 cm', 'Altura mínima do chão ao assento': '42 cm', 'Altura máxima do chão ao assento\\r': '50 cm', 'Altura mínima da cadeira': '116 cm'}",
         "info_products_10_escritório.json"
        ],
        [
         "12",
         "MLB26982962",
         "Escrivaninha Up Home Decor Industrial mdp de 120m x 75cm x 53cm branco Fosco",
         "{'Marca': 'Up Home Decor', 'Modelo': 'Industrial', 'Comprimento': '12000 cm', 'Profundidade': '53 cm', 'Largura': '53 cm', 'Altura': '75 cm', 'Cor': 'Branco', 'Cor principal': 'Branco', 'Capacidade em peso': '20 kg', 'Materiais da escrivaninha': 'MDP, Ferro', 'Requer montagem': 'Sim', 'Com gavetas': 'Não', 'Inclui estante para livros': 'Não', 'É flutuante': 'Não', 'É em forma de L': 'Não', 'Com luzes LED': 'Não', 'Acabamentos': 'Fosco'}",
         "info_products_10_escritório.json"
        ],
        [
         "13",
         "MLB32459667",
         "Etiqueta Impressora A4 38,1 X 21,2mm 100 Fls Ca4351 Colacril Cor Branco",
         "{'Marca': 'Colacril', 'Tamanho do papel': 'A4', 'Tipo de papel': 'PAPEL ADESIVO', 'Cor': 'Branco', 'Quantidade de folhas': '100', 'Gramagem': '60 g', 'Formato de venda': 'Kit', 'Unidades por kit': '6500', 'Peso': '800 g', 'É resma': 'Não', 'É adesivo': 'Sim', 'Acabamento': 'Branco'}",
         "info_products_10_escritório.json"
        ],
        [
         "14",
         "MLB30185053",
         "Armário Aéreo Escritório Com Nicho Prateleira 120cm Madesa B Cor Branco MDFC01000209",
         "{'Modelo': 'MDFC01000209', 'Marca': 'Madesa', 'Cor': 'Branco', 'Material': 'MDP', 'Quantidade de portas': '2', 'Requer montagem': 'Sim'}",
         "info_products_10_escritório.json"
        ],
        [
         "15",
         "MLB24720569",
         "Mesa Escrivaninha Fit 4 Prateleiras Preto - Art Panta",
         "{'Marca': 'Art Panta', 'Modelo': 'Fit', 'Comprimento': '130 cm', 'Profundidade': '45 cm', 'Largura': '130 cm', 'Altura': '146 cm', 'Cor': 'Preto', 'Cor principal': 'Preto', 'Materiais da escrivaninha': 'Aço, MDF', 'Estilo': 'Moderno', 'Requer montagem': 'Sim', 'Com gavetas': 'Não', 'Inclui estante para livros': 'Sim', 'É flutuante': 'Não', 'É em forma de L': 'Não', 'É gamer': 'Não', 'Com luzes LED': 'Não', 'Acabamentos': 'Fosco, Laqueado', 'Com portas': 'Não', 'Com fechadura': 'Não', 'Inclui chaves': 'Não', 'Com prateleiras': 'Sim', 'Quantidade de prateleiras': '5', 'Com prateleira para CPU': 'Não', 'Com rodas': 'Não', 'Com módulo móvel': 'Não', 'Com altura ajustável': 'Não', 'Com ângulo ajustável': 'Não', 'É dobrável': 'Não', 'Com portas USB': 'Não', 'Com tomadas': 'Não', 'Com passa-cabos': 'Não', 'Com bandeja móvel': 'Não'}",
         "info_products_10_escritório.json"
        ],
        [
         "16",
         "MLB28853675",
         "Porta Caneta Organizador De Mesa 7 Divisões Dello Cor Cristal",
         "{'Marca': 'Dello', 'Modelo': 'Dello Porta Caneta', 'Tipo de produto': 'Organizador de mesa', 'Cor': 'Cristal', 'Peso': '170 kg', 'Quantidade de compartimentos': '7'}",
         "info_products_10_escritório.json"
        ],
        [
         "17",
         "MLB26115411",
         "Cadeira Mocho C/ Encosto Giratório Massagista Plus Evolux Cor Preto",
         "{'Marca': 'Evolux', 'Modelo': 'Mocho Encosto Plus', 'Modelo alfanumérico': 'N2232783', 'Cor': 'Preto', 'Unidades por kit': '1', 'Modelo detalhado': 'N2232783', 'Cor principal': 'Preto', 'Tipo de cadeira de escritório': 'Massagista', 'Materiais da estrutura': 'Metal', 'Materiais do enchimento': 'Espuma', 'Altura do encosto': '30 cm', 'Profundidade do assento': '40 cm', 'Largura da cadeira': '50 cm', 'Altura máxima da cadeira': '100 cm', 'Peso máximo suportado': '120 kg', 'Requer montagem': 'Sim', 'Com altura ajustável': 'Sim', 'Com aro para pés': 'Não', 'Com apoio de braços': 'Não', 'Com encosto reclinável': 'Não', 'Com rodas': 'Sim', 'Com luzes': 'Não', 'Com apoio de braços ajustável': 'Não', 'Com apoio de cabeça': 'Não', 'Com apoio de pés': 'Não', 'É gamer': 'Não', 'É ergonômica': 'Sim', 'É giratória': 'Sim', 'Tipo de apoio lombar': 'Fixo', 'Acabamento da estrutura': 'Cromado'}",
         "info_products_10_escritório.json"
        ],
        [
         "18",
         "MLB23369142",
         "Escrivaninha Mesa De Canto 3 Gavetas Lisboa Madesa Branca Cor Branco 693909",
         "{'Marca': 'Madesa', 'Modelo': '693909', 'Profundidade': '60 cm', 'Largura': '255 cm', 'Altura': '74 cm', 'Cor': 'Branco', 'Cor principal': 'Branco', 'Materiais da escrivaninha': 'MDP', 'Estilo': 'Moderno', 'Requer montagem': 'Sim', 'Com gavetas': 'Sim', 'Quantidade de gavetas': '3', 'Inclui estante para livros': 'Sim', 'É flutuante': 'Não', 'É em forma de L': 'Sim', 'É gamer': 'Não', 'Com luzes LED': 'Não', 'Inclui manual de instruções': 'Sim', 'Inclui kit de instalação': 'Sim', 'Material das corrediças': 'MDP'}",
         "info_products_10_escritório.json"
        ],
        [
         "19",
         "MLB36257257",
         "Conjunto Escritório Mesa E Armário Office Berlin - Vianossa Cor Preto/naturale",
         "{'Linha': 'Móveis para escritório', 'Modelo': 'Berlin', 'Marca': 'Vianossa', 'Cor': 'Preto/Naturale', 'Altura': '1.53 m', 'Largura': '48 cm', 'Profundidade': '38 cm', 'Quantidade de prateleiras': '2', 'Material': 'MDP', 'Quantidade de portas': '1', 'Requer montagem': 'Sim', 'Com rodas': 'Não', 'Com fechadura': 'Não'}",
         "info_products_10_escritório.json"
        ],
        [
         "20",
         "MLB32810690",
         "Papel Toalha Interfolha - 2.000 Folhas",
         "{'Marca': 'Interfolha', 'Modelo': 'Interfolha', 'Título manual': 'Papel Toalha Interfolha - 2.000 Folhas', 'Formato de venda': 'Unidade', 'Unidades por kit': '1'}",
         "info_products_10_escritório.json"
        ],
        [
         "21",
         "MLB25742022",
         "Mesa Escrivaninha Art Ii 4 Prateleiras Olmo/branco - Artany Cor Marrom",
         "{'Marca': 'Artany', 'Modelo': '006056', 'Cor': 'Marrom', 'Cor principal': 'Marrom', 'Requer montagem': 'Sim', 'É em forma de L': 'Não', 'É gamer': 'Não', 'Com luzes LED': 'Não', 'Peso': '29 kg', 'Com prateleiras': 'Sim'}",
         "info_products_10_escritório.json"
        ],
        [
         "22",
         "MLB29739624",
         "Cadeira de escritório Python Fly XHOCB07 ergonômica branca e cinza com estofado de malha",
         "{'Marca': 'Python Fly', 'Modelo': 'XHOCB07', 'Cor': 'Branco/Cinza', 'Material do estofamento': 'Malha', 'Formato de venda': 'Unidade', 'Unidades por kit': '1', 'Modelo detalhado': 'XHOCB07', 'Cor principal': 'Cinza', 'Cor filtrável': 'Cinza', 'Tipo de cadeira de escritório': 'Escritório', 'Materiais da estrutura': 'Plástico', 'Materiais do enchimento': 'Espuma', 'Materiais do aro para pés': 'plásticos, Náilon', 'Altura do encosto': '51 cm', 'Profundidade do assento': '49 cm', 'Largura da cadeira': '64 cm', 'Altura máxima da cadeira': '120 cm', 'Peso máximo suportado': '150 kg', 'Requer montagem': 'Sim', 'Com altura ajustável': 'Sim', 'Com aro para pés': 'Não', 'Com apoio de braços': 'Sim', 'Com encosto reclinável': 'Não', 'Com rodas': 'Sim', 'Com luzes': 'Não', 'Com apoio de braços ajustável': 'Sim', 'Com apoio de cabeça': 'Sim', 'Com apoio de pés': 'Não', 'É gamer': 'Não', 'É ergonômica': 'Sim', 'É giratória': 'Sim', 'Inclui manual de montagem': 'Sim', 'Tipo de apoio lombar': 'Dinâmico', 'Acabamento da estrutura': 'Cromado', 'Tipos de mecanismos de reclinação': 'Basculante', 'Faixa de inclinação do encosto': '90 ° x 130 °', 'Altura da cadeira': '119 cm', 'Profundidade da cadeira': '49 cm', 'Diâmetro da base': '65 cm', 'Peso da cadeira': '5.3 kg', 'Largura do assento': '53 cm', 'Largura do encosto': '50 cm', 'Altura mínima do chão ao assento': '38 cm', 'Altura máxima do chão ao assento\\r': '48 cm', 'Altura mínima da cadeira': '110 cm'}",
         "info_products_10_escritório.json"
        ],
        [
         "23",
         "MLB32418329",
         "Mesa P/ Escritório Diretor Estilo Industrial 120x60 Ajl Cor Preto",
         "{'Marca': 'AJL', 'Modelo': 'Mesa para computador', 'Profundidade': '60 cm', 'Largura': '120 cm', 'Altura': '75 cm', 'Cor': 'Preto', 'Cor principal': 'Preto', 'Materiais da escrivaninha': 'MDF, MDP', 'Requer montagem': 'Sim', 'Com gavetas': 'Não', 'É em forma de L': 'Não', 'É gamer': 'Não', 'Com luzes LED': 'Não', 'Inclui manual de instruções': 'Sim', 'Peso': '15 kg', 'Acabamentos': 'Pintura UV', 'Material das corrediças': 'Metal', 'Com prateleiras': 'Sim', 'Quantidade de prateleiras': '2', 'Com rodas': 'Não', 'Com bandeja móvel': 'Sim'}",
         "info_products_10_escritório.json"
        ],
        [
         "24",
         "MLB21905964",
         "Cadeira Caixa Alta Rodízio Urban Office Balcão Recepção Preta 1 unidade",
         "{'Marca': 'Urban Office', 'Modelo': 'Caixa Alta Rodízio', 'Cor': 'Preto', 'Material do estofamento': 'Espuma', 'Formato de venda': 'Unidade', 'Unidades por kit': '1', 'Modelo detalhado': 'Caixa Alta Rodízio Preto', 'Cor principal': 'Preto', 'Cor filtrável': 'Preto', 'Tipo de cadeira de escritório': 'Caixa', 'Materiais do enchimento': 'Espuma', 'Materiais do aro para pés': 'Metal', 'Altura do encosto': '53 cm', 'Profundidade do assento': '36 cm', 'Largura da cadeira': '26 cm', 'Altura máxima da cadeira': '75 cm', 'Peso máximo suportado': '110 kg', 'Requer montagem': 'Sim', 'Com altura ajustável': 'Sim', 'Com aro para pés': 'Sim', 'Com apoio de braços': 'Não', 'Com encosto reclinável': 'Não', 'Com rodas': 'Sim', 'Com luzes': 'Não', 'Com apoio de braços ajustável': 'Não', 'Com apoio de cabeça': 'Não', 'Com apoio de pés': 'Sim', 'É gamer': 'Não', 'É ergonômica': 'Não', 'É giratória': 'Sim', 'Inclui manual de montagem': 'Sim', 'Tipo de apoio lombar': 'Fixo', 'Altura mínima do chão ao assento': '62 cm', 'Altura máxima do chão ao assento\\r': '75 cm'}",
         "info_products_10_escritório.json"
        ],
        [
         "25",
         "MLB24144090",
         "Armário Aço Escritório Fechadura 4 Prateleiras Ea301 Cinza Cor Cinza Cristal",
         "{'Modelo': 'EA301', 'Marca': 'Elite Aço', 'Cor': 'Cinza Cristal', 'Altura': '1.98 m', 'Largura': '90 cm', 'Profundidade': '40 cm', 'Quantidade de prateleiras': '4', 'Material': 'Aço', 'Quantidade de portas': '2', 'Requer montagem': 'Sim', 'Com rodas': 'Não', 'Com fechadura': 'Sim'}",
         "info_products_10_escritório.json"
        ],
        [
         "26",
         "MLB47912202",
         "Lixeira Com Pedal Cozinha Banheiro Cesto Removível 3l Preto",
         "{'Título manual': 'Lixeira Com Pedal Cozinha Banheiro Cesto Removível 3l Preto', 'Marca': 'SRK', 'Modelo': 'Lixeira 3 Litros inox preta', 'Cor': 'Preto', 'Formato de venda': 'Unidade', 'Unidades por kit': '1', 'Capacidade em volume': '3 L', 'Materiais da estrutura': 'Aço inoxidável', 'Material da tampa': 'Inox', 'Tipos de aberturas': 'Pedal', 'Lugar de colocação': 'Escritório/Bancada/Cozinha', 'É de embutir': 'Não', 'Forma': 'Circular', 'Com bordas arredondadas': 'Sim', 'Com rodas': 'Não'}",
         "info_products_10_escritório.json"
        ],
        [
         "27",
         "MLB45509030",
         "Escrivaninha Mesa Escritório Dobrável Industrial Slim Notebook Romero",
         "{'Marca': 'Mimbral', 'Modelo': 'Escrivaninha dobravel', 'Comprimento': '8000 cm', 'Profundidade': '8 cm', 'Largura': '45 cm', 'Altura': '77 cm', 'Cor': 'Preto', 'Cor principal': 'Preto', 'Capacidade em peso': '100 kg', 'Materiais da escrivaninha': 'Aço, BP, MDP', 'Estilo': 'Clássico', 'Tempo de montagem': '1 m', 'Requer montagem': 'Não', 'Com gavetas': 'Não', 'Quantidade de gavetas': '0', 'Inclui estante para livros': 'Não', 'É flutuante': 'Não', 'É em forma de L': 'Não', 'É gamer': 'Não', 'Com luzes LED': 'Não', 'Inclui manual de instruções': 'Não', 'Inclui kit de instalação': 'Não', 'Peso': '2 kg', 'Acabamentos': 'Fosco', 'Material das corrediças': 'Aço', 'Com portas': 'Não', 'Quantidade de portas': '0', 'Com fechadura': 'Não', 'Inclui chaves': 'Não', 'Com prateleiras': 'Não', 'Quantidade de prateleiras': '0', 'Com prateleira para CPU': 'Não', 'Com rodas': 'Não', 'Quantidade de rodas': '0', 'Com módulo móvel': 'Não', 'Com altura ajustável': 'Não', 'Com ângulo ajustável': 'Não', 'É dobrável': 'Sim', 'Com portas USB': 'Não', 'Com tomadas': 'Não', 'Com passa-cabos': 'Não', 'Com bandeja móvel': 'Não'}",
         "info_products_10_escritório.json"
        ],
        [
         "28",
         "MLB24086665",
         "Kit 03 Pendentes Vegas Preto Fosco Com Cobre Linha Srp Estrutura Preto Fosco/Bronze",
         "{'Marca': 'Repuxo Inox', 'Modelo': 'Vegas / Bala', 'Unidades por kit': '3', 'Voltagem': '127/220V', 'Cor': 'Preto Fosco/Bronze', 'Cor principal': 'Preto', 'Potência': '40 W', 'Tipos de fontes de luz': 'Led ou eletrônica', 'Tipo de alimentação': 'Corrente elétrica', 'Formato da luminária': 'Pendente', 'Forma': 'Redonda', 'Lugares de montagem': 'Teto', 'Materiais': 'Alumínio', 'Ambientes': 'Interior, Sala, Cozinha, Área gourmet, Sala de jantar, Bares e escritórios.', 'Assistentes virtuais compatíveis': 'nãopossuiAssistentes virtuais compatíveis', 'Aplicações inteligentes compatíveis': 'nãopossuiAplicações inteligentes compatíveis', 'Capacidade de lâmpadas': '3', 'Inclui lâmpadas': 'Não', 'Inclui controle remoto': 'Não', 'É sem fio': 'Não', 'É autoadesiva': 'Não', 'Com botão de pressionar': 'Não', 'Com Wi-Fi': 'Não', 'Direção da luz': 'Unidirecional', 'É pendente': 'Sim', 'Comprimento': '1 m', 'Largura': '15.5 cm', 'Altura': '18 cm', 'Tipo de soquete da lâmpada': 'E27'}",
         "info_products_10_escritório.json"
        ],
        [
         "29",
         "MLB44079111",
         "Mesa De Canto Em L Cor Preto Para Escritório Ou Home Office - Design Contemporâneo Com Amplo Espaço De Trabalho",
         "{'Marca': 'Sofa Sogude', 'Modelo': 'MesaL2586', 'Comprimento': '150 cm', 'Profundidade': '45 cm', 'Largura': '150 cm', 'Altura': '74.5 cm', 'Cor': 'Preto', 'Materiais da escrivaninha': 'MDP, METALON, Madeira', 'Estilo': 'Industrial', 'Requer montagem': 'Sim', 'É em forma de L': 'Sim', 'Inclui manual de instruções': 'Sim', 'Inclui kit de instalação': 'Sim'}",
         "info_products_10_escritório.json"
        ],
        [
         "30",
         "MLB18621026",
         "Cadeira de escritório Travel Max Diretor MB-4005 preta com estofado de tecido",
         "{'Marca': 'Travel Max', 'Linha': 'Gerencial', 'Modelo': 'Diretor', 'Modelo alfanumérico': 'MB-4005', 'Cor': 'Preto', 'Material do estofamento': 'Tecido', 'Formato de venda': 'Unidade', 'Unidades por kit': '1', 'Cor principal': 'Preto', 'Tipo de cadeira de escritório': 'Escritório', 'Materiais da estrutura': 'Aço, Policarbonato', 'Materiais do enchimento': 'Espuma', 'Altura do encosto': '50 cm', 'Profundidade do assento': '45 cm', 'Largura da cadeira': '56 cm', 'Altura máxima da cadeira': '97 cm', 'Peso máximo suportado': '120 kg', 'Requer montagem': 'Sim', 'Com altura ajustável': 'Sim', 'Com aro para pés': 'Não', 'Com apoio de braços': 'Sim', 'Com encosto reclinável': 'Não', 'Com rodas': 'Sim', 'Com apoio de cabeça': 'Não', 'Com apoio de pés': 'Não', 'É gamer': 'Não', 'É ergonômica': 'Não', 'É giratória': 'Sim', 'Tipo de apoio lombar': 'Fixo', 'Acabamento da estrutura': 'Cromado', 'Tipos de mecanismos de reclinação': 'Basculante', 'Profundidade da cadeira': '60 cm', 'Peso da cadeira': '7.5 kg', 'Altura mínima da cadeira': '87 cm'}",
         "info_products_10_escritório.json"
        ],
        [
         "31",
         "MLB46087225",
         "Mesa Escrivaninha Giratoria Com Armário Gamer Em Madeira 3 Gavetas Cor Preto Casa Lustre",
         "{'Marca': 'Maciel Moveis', 'Modelo': 'Cômoda Mesa Estudo Quarto', 'Comprimento': '129 cm', 'Profundidade': '75.6 cm', 'Largura': '129 cm', 'Altura': '76 cm', 'Cor': 'Preto', 'Cor principal': 'Preto', 'Materiais da escrivaninha': 'MDP', 'Requer montagem': 'Sim', 'Com gavetas': 'Sim', 'Quantidade de gavetas': '3', 'Inclui estante para livros': 'Sim', 'É flutuante': 'Não', 'É em forma de L': 'Não', 'É gamer': 'Sim', 'Com luzes LED': 'Sim', 'Inclui manual de instruções': 'Sim', 'Inclui kit de instalação': 'Sim', 'Acabamentos': 'Laqueado', 'Com portas': 'Não', 'Com fechadura': 'Não', 'Inclui chaves': 'Não', 'Com prateleiras': 'Sim', 'Quantidade de prateleiras': '3', 'Com prateleira para CPU': 'Não', 'Com rodas': 'Não', 'Com módulo móvel': 'Sim', 'Com altura ajustável': 'Não', 'Com ângulo ajustável': 'Sim', 'É dobrável': 'Não', 'Com portas USB': 'Não', 'Com tomadas': 'Não', 'Com passa-cabos': 'Não', 'Com bandeja móvel': 'Não'}",
         "info_products_10_escritório.json"
        ],
        [
         "32",
         "MLB44350555",
         "Mini Aspirador De Mesa Pó Limpador Design Portatil Escritori",
         "{'Marca': 'VF599', 'Modelo': 'VF599', 'Tipo de limpa migalhas': 'Escova', 'Cor': 'Branco', 'Nome do desenho': 'Lisa', 'Material': 'Plástico', 'Tipo de alimentação': 'Pilha', 'Tamanho da pilha': 'AA', 'Acessórios incluídos': 'Fio USB, Pilha', 'Usos recomendados': 'Mesa, Teclado'}",
         "info_products_10_escritório.json"
        ],
        [
         "33",
         "MLB14558865",
         "Escrivaninha Valdemóveis Mesa com armário 1 porta mdf de 130cm x 136cm x 44cm branco Fosco",
         "{'Marca': 'Valdemóveis', 'Modelo': 'Mesa com armário 1 porta', 'Profundidade': '44 cm', 'Largura': '130 cm', 'Altura': '136 cm', 'Cor': 'Branco', 'Cor principal': 'Branco', 'Materiais da escrivaninha': 'MDF, MDP', 'Requer montagem': 'Sim', 'Com gavetas': 'Sim', 'Quantidade de gavetas': '1', 'É em forma de L': 'Não', 'Inclui manual de instruções': 'Sim', 'Peso': '41.6 kg', 'Acabamentos': 'Fosco, Pintura UV', 'Material das corrediças': 'Metal', 'Com portas': 'Sim', 'Quantidade de portas': '1', 'Com prateleiras': 'Sim', 'Quantidade de prateleiras': '5', 'Com prateleira para CPU': 'Sim', 'É dobrável': 'Não', 'Com bandeja móvel': 'Sim', 'MPN': 'MKP000824003211'}",
         "info_products_10_escritório.json"
        ],
        [
         "34",
         "MLB47170672",
         "Tapete 2,00x1,50 Peludo Felpudo Sala E Quarto Cores Cor Marrom Mesclado Desenho Do Tecido Pelo Alto",
         "{'Marca': 'Casa Laura Enxovais', 'Modelo': 'Tapete Médio Para Sala', 'Comprimento': '2 m', 'Largura': '1.4 m', 'Desenho do tecido': 'Pelo Alto', 'Cor': 'Marrom mesclado', 'Cor principal': 'Marrom-claro', 'Estilo do tapete': 'Felpudo', 'Materiais': 'Poliéster', 'Ambientes recomendados': 'Escritorio, Quarto, Sala, Sala de estar', 'É sanitizante': 'Não', 'É artesanal': 'Não', 'É produto personalizável': 'Não', 'Tipo de cabelo': 'Longo', 'Comprimento do cabelo': '3 cm', 'É anti-alergico': 'Não', 'É antiderrapante': 'Sim', 'É lavável': 'Sim', 'É adequado para máquina de lavar roupa': 'Não'}",
         "info_products_10_escritório.json"
        ],
        [
         "35",
         "MLB28558164",
         "Kit Porta Objetos organizador escritório Com 3 Unidades",
         "{'Marca': 'Dello', 'Modelo': '6413.P.0008', 'Tipo de produto': 'Porta-lápis', 'Formato de venda': 'Unidade', 'Unidades por kit': '1', 'Cor': 'Preto', 'Altura': '9.7 cm', 'Comprimento': '7.6 cm', 'Largura': '8 cm', 'Peso': '200 g', 'Materiais': 'Poliestireno', 'Quantidade de compartimentos': '1', 'Com suporte para celular': 'Não', 'É giratório': 'Não', 'É desmontável': 'Não'}",
         "info_products_10_escritório.json"
        ],
        [
         "36",
         "MLB29038291",
         "Lustre Pendente Moderno Anéis 5 Arcos Pe Direito Duplo Alto Cor Preto 110V/220V",
         "{'Marca': 'Nitrolux', 'Modelo': 'LP-405', 'Unidades por kit': '1', 'Cor': 'Preto', 'Cor da luz': 'Branco-neutro', 'Temperatura de cor': '4000 K', 'Cor principal': 'Dourado', 'Potência': '132 W', 'Tipos de fontes de luz': 'LED', 'Tipo de alimentação': 'Corrente elétrica', 'Voltagem da bateria': '3.2V', 'Formato da luminária': 'Lustre', 'Forma': 'Redonda', 'Lugares de montagem': 'Teto', 'Materiais': 'Alumínio', 'Ambientes': 'Cozinhas, Escritórios, Quartos, Salas, Interior', 'Assistentes virtuais compatíveis': 'Alexa', 'Aplicações inteligentes compatíveis': 'Google Home', 'Eficiência energética': 'A+', 'Capacidade de lâmpadas': '1', 'Inclui lâmpadas': 'Sim', 'Inclui controle remoto': 'Não', 'É sem fio': 'Não', 'É autoadesiva': 'Não', 'Com botão de pressionar': 'Não', 'Com Wi-Fi': 'Não', 'Fabricante': 'Nitrolux', 'Modelo alfanumérico': 'LP-405P', 'Direção da luz': 'Unidirecional', 'É pendente': 'Sim', 'Comprimento': '1 m', 'Largura': '1 m', 'Altura': '4 m', 'Tipo de soquete da lâmpada': 'E14'}",
         "info_products_10_escritório.json"
        ],
        [
         "37",
         "MLB35702829",
         "Gaveteiro Escritório 4 Gavetas Com Rodízios Kit 2 Gávea Cor Preto",
         "{'Linha': 'Escritório', 'Modelo': 'Gávea', 'Marca': 'Móveis Leão', 'Cor': 'Preto', 'Altura': '67 cm', 'Largura': '36 cm', 'Profundidade': '36 cm', 'Quantidade de gavetas': '4', 'Material': 'MDP', 'Requer montagem': 'Sim', 'Com rodas': 'Sim', 'Com fechadura': 'Sim'}",
         "info_products_10_escritório.json"
        ],
        [
         "38",
         "MLB23487543",
         "Mesa Gamer 2 Prateleiras Preto Fosco 3875 Qmovi Escrivaninha gamer",
         "{'Marca': 'Qmovi', 'Modelo': 'Escrivaninha gamer', 'Comprimento': '114 cm', 'Profundidade': '54 cm', 'Largura': '114 cm', 'Altura': '74.5 cm', 'Cor': 'Preto', 'Cor principal': 'Preto', 'Materiais da escrivaninha': 'MDP, Madeira', 'Requer montagem': 'Sim', 'Com gavetas': 'Não', 'Quantidade de gavetas': '0', 'Inclui estante para livros': 'Não', 'É flutuante': 'Não', 'É em forma de L': 'Não', 'É gamer': 'Sim', 'Com luzes LED': 'Não', 'Inclui manual de instruções': 'Sim', 'Inclui kit de instalação': 'Não', 'Peso': '20.3 kg', 'Acabamentos': 'Laqueado', 'Com portas': 'Não', 'Com fechadura': 'Não', 'Inclui chaves': 'Não', 'Com prateleiras': 'Sim', 'Quantidade de prateleiras': '2', 'Com prateleira para CPU': 'Sim', 'Com rodas': 'Não', 'Com módulo móvel': 'Não', 'Com altura ajustável': 'Não', 'Com ângulo ajustável': 'Não', 'É dobrável': 'Não', 'Com portas USB': 'Não', 'Com tomadas': 'Não', 'Com passa-cabos': 'Sim', 'Com bandeja móvel': 'Não'}",
         "info_products_10_escritório.json"
        ],
        [
         "39",
         "MLB45881892",
         "Kit Escrivaninha Infantil Com Gaveta + Armário De Livros Com Rodinhas Móveis Bonatto",
         "{'Marca': 'Móveis Bonatto', 'Modelo': 'Conjunto Quarto', 'Comprimento': '70 cm', 'Profundidade': '40 cm', 'Largura': '70 cm', 'Altura': '78 cm', 'Cor': 'Preto', 'Cor principal': 'Preto', 'Capacidade em peso': '20 kg', 'Materiais da escrivaninha': 'Madeira', 'Estilo': 'Moderno', 'Tempo de montagem': '20 m', 'Requer montagem': 'Sim', 'Quantidade de gavetas': '1', 'Inclui estante para livros': 'Sim', 'É flutuante': 'Não', 'É em forma de L': 'Não', 'É gamer': 'Sim', 'Com luzes LED': 'Não', 'Inclui manual de instruções': 'Sim', 'Inclui kit de instalação': 'Sim', 'Peso': '6 kg', 'Acabamentos': 'Semi - Brilho', 'Material das corrediças': 'Aço', 'Com portas': 'Não', 'Com fechadura': 'Não', 'Inclui chaves': 'Não', 'Com prateleiras': 'Sim', 'Quantidade de prateleiras': '4', 'Com prateleira para CPU': 'Não', 'Com rodas': 'Sim', 'Quantidade de rodas': '4', 'Com módulo móvel': 'Sim', 'Com altura ajustável': 'Não', 'Com ângulo ajustável': 'Não', 'É dobrável': 'Não', 'Com portas USB': 'Não', 'Com tomadas': 'Não', 'Com passa-cabos': 'Não', 'Com bandeja móvel': 'Não'}",
         "info_products_10_escritório.json"
        ],
        [
         "40",
         "MLB22688140",
         "Etiqueta Impressora A4 31 X 17mm 100 Fls Ca4348 Colacril Cor Branco",
         "{'Marca': 'Geral', 'Tamanho do papel': 'A4', 'Tipo de papel': 'Etiqueta', 'Formato de venda': 'Unidade', 'Unidades por kit': '1', 'Peso': '800 g', 'É resma': 'Sim', 'É adesivo': 'Sim', 'Acabamento': 'Acetinado'}",
         "info_products_10_escritório.json"
        ],
        [
         "41",
         "MLB29613969",
         "Cadeira de escritório Python Fly X11 gamer ergonômica preta com estofado de malha",
         "{'Marca': 'Python Fly', 'Modelo': 'X11', 'Cor': 'Preto', 'Material do estofamento': 'Malha', 'Unidades por kit': '1', 'Modelo detalhado': 'Cadeira OFFICE Mesh Chair', 'Cor principal': 'Preto', 'Cor filtrável': 'Preto', 'Tipo de cadeira de escritório': 'Escritório', 'Materiais da estrutura': 'Aço', 'Materiais do enchimento': 'Esponja', 'Materiais do aro para pés': 'Liga metálica', 'Altura do encosto': '58 cm', 'Profundidade do assento': '52 cm', 'Largura da cadeira': '65 cm', 'Altura máxima da cadeira': '129 cm', 'Peso máximo suportado': '120 kg', 'Requer montagem': 'Sim', 'Com altura ajustável': 'Sim', 'Com aro para pés': 'Não', 'Com apoio de braços': 'Sim', 'Com encosto reclinável': 'Não', 'Com rodas': 'Sim', 'Com luzes': 'Não', 'Com apoio de braços ajustável': 'Sim', 'Com apoio de cabeça': 'Sim', 'Com apoio de pés': 'Não', 'É gamer': 'Sim', 'É ergonômica': 'Sim', 'É giratória': 'Sim', 'Inclui manual de montagem': 'Sim', 'Tipo de apoio lombar': 'Regulável', 'Acabamento da estrutura': 'Cromado', 'Tipos de mecanismos de reclinação': 'Basculante, Encosto reclinável', 'Faixa de inclinação do encosto': '90 ° x 125 °', 'Altura da cadeira': '128 cm', 'Profundidade da cadeira': '50 cm', 'Diâmetro da base': '62 cm', 'Peso da cadeira': '11 kg', 'Largura do assento': '52 cm', 'Largura do encosto': '50 cm', 'Altura mínima do chão ao assento': '48 cm', 'Altura máxima do chão ao assento\\r': '58 cm', 'Altura mínima da cadeira': '119 cm'}",
         "info_products_10_escritório.json"
        ],
        [
         "42",
         "MLB30481557",
         "Passadeira Sisal Antiderrapante 2,30x0,66 Tapete Lancer Cor Cinza Desenho do tecido Sisal IGUAL A FOTO",
         "{'Marca': 'Lancer', 'Modelo': 'Passadeira antideslizante', 'Comprimento': '230 m', 'Largura': '66 cm', 'Desenho do tecido': 'Sisal IGUAL A FOTO', 'Cor': 'Cinza', 'Cor principal': 'Multicolorido', 'Estilo do tapete': 'Passadeira', 'Materiais': 'Polipropileno, Poliéster', 'Ambientes recomendados': 'Corredor, Cozinha, Escritorio, Quarto', 'É sanitizante': 'Não', 'É artesanal': 'Não', 'É produto personalizável': 'Não', 'É anti-alergico': 'Sim', 'É antiderrapante': 'Sim', 'É lavável': 'Sim', 'É adequado para máquina de lavar roupa': 'Não'}",
         "info_products_10_escritório.json"
        ],
        [
         "43",
         "MLB33393668",
         "Mesa Para Escritório 180cm Me4185 Wt",
         "{'Marca': 'Tecno Mobili', 'Modelo': 'ME4118', 'Profundidade': '60 cm', 'Largura': '180 cm', 'Altura': '74 cm', 'Cor': 'Branco', 'Capacidade em peso': '25 kg', 'Materiais da escrivaninha': 'MDP, MDF', 'Estilo': 'Moderno', 'Tempo de montagem': '1 h', 'Requer montagem': 'Sim', 'Com gavetas': 'Sim', 'Quantidade de gavetas': '2', 'Inclui estante para livros': 'Não', 'É flutuante': 'Não', 'É em forma de L': 'Não', 'É gamer': 'Não', 'Com luzes LED': 'Não', 'Inclui manual de instruções': 'Sim', 'Inclui kit de instalação': 'Sim', 'Peso': '25.65 kg', 'Acabamentos': 'Fosco', 'Material das corrediças': 'MDP', 'Com portas': 'Não', 'Com fechadura': 'Sim', 'Inclui chaves': 'Sim', 'Com prateleiras': 'Não', 'Com prateleira para CPU': 'Não', 'Com rodas': 'Não', 'Com módulo móvel': 'Não', 'Com altura ajustável': 'Não', 'Com ângulo ajustável': 'Não', 'É dobrável': 'Não', 'Com portas USB': 'Não', 'Com tomadas': 'Não', 'Com passa-cabos': 'Não', 'Com bandeja móvel': 'Não'}",
         "info_products_10_escritório.json"
        ],
        [
         "44",
         "MLB47047974",
         "Cadeira De Escritório Giratória Com Altura Ajustável Cor Preto Material Do Estofamento Algodão",
         "{'Marca': 'Senhor da Net', 'Modelo': 'Modelo Desconhecido', 'Cor': 'Preto', 'Material do estofamento': 'Algodão', 'Formato de venda': 'Unidade', 'Unidades por kit': '1', 'Modelo detalhado': 'Ascend', 'Cor principal': 'Preto', 'Tipo de cadeira de escritório': 'Escritório', 'Materiais da estrutura': 'Metal, Plástico', 'Materiais do enchimento': 'Espuma', 'Materiais do aro para pés': 'Metal', 'Altura do encosto': '46 cm', 'Profundidade do assento': '45 cm', 'Largura da cadeira': '52 cm', 'Altura máxima da cadeira': '95 cm', 'Peso máximo suportado': '120 kg', 'Requer montagem': 'Sim', 'Com altura ajustável': 'Sim', 'Com aro para pés': 'Não', 'Com apoio de braços': 'Sim', 'Com encosto reclinável': 'Não', 'Com rodas': 'Sim', 'Com apoio de braços ajustável': 'Não', 'Com apoio de pés': 'Não', 'É gamer': 'Não', 'É ergonômica': 'Sim', 'É giratória': 'Sim', 'Inclui manual de montagem': 'Sim', 'Tipo de apoio lombar': 'Fixo', 'Acabamento da estrutura': 'Cromado'}",
         "info_products_10_escritório.json"
        ],
        [
         "45",
         "MLB36506613",
         "Conjunto Escritório Buffet E Armário Berlin - Vianossa Cor Preto/Naturale",
         "{'Linha': 'Móveis para escritório', 'Modelo': 'Berlin', 'Marca': 'Vianossa', 'Cor': 'Preto/Naturale', 'Altura': '74.5 cm', 'Largura': '1.355 m', 'Profundidade': '38 cm', 'Quantidade de prateleiras': '3', 'Material': 'MDP', 'Quantidade de portas': '3', 'Requer montagem': 'Sim', 'Com rodas': 'Não', 'Com fechadura': 'Não'}",
         "info_products_10_escritório.json"
        ],
        [
         "46",
         "MLB24128694",
         "Armário Escritório 2 Portas Kappesberg Carvalho Munique F210",
         "{'Linha': 'frame', 'Modelo': 'F210', 'Marca': 'Kappesberg', 'Cor': 'Munique', 'Altura': '1.6 m', 'Largura': '91 cm', 'Profundidade': '45 cm', 'Quantidade de prateleiras': '3', 'Material': 'MDP BP', 'Quantidade de portas': '2', 'Requer montagem': 'Sim', 'Com rodas': 'Não', 'Com fechadura': 'Sim'}",
         "info_products_10_escritório.json"
        ],
        [
         "47",
         "MLB40501475",
         "Escrivaninha MS Maciel & Signorini Mesa Com Prateleira Para Quarto Escritorio em Estilo Industrial Cor Cobre Preto",
         "{'Marca': 'MS Maciel & Signorini', 'Modelo': 'Quarto', 'Profundidade': '45 cm', 'Largura': '120 cm', 'Altura': '74 cm', 'Cor': 'Cobre preto', 'Materiais da escrivaninha': 'Aço, MDP', 'Estilo': 'Industrial', 'Requer montagem': 'Sim', 'Com gavetas': 'Não', 'Inclui estante para livros': 'Sim', 'É flutuante': 'Não', 'É em forma de L': 'Não', 'É gamer': 'Não', 'Com luzes LED': 'Não', 'Inclui manual de instruções': 'Sim', 'Com rodas': 'Não', 'É dobrável': 'Não', 'Com tomadas': 'Não'}",
         "info_products_10_escritório.json"
        ],
        [
         "48",
         "MLB24619177",
         "Balcão Buffet Aparador Branco 3 Portas com Rodinhas Rodízios BRV Móveis",
         "{'Fabricante': 'BRV Móveis', 'Marca': '867', 'Modelo': 'BRV', 'Cor': 'Branco', 'Cor principal': 'Branco', 'Estilo': 'Moderno', 'Materiais': 'Madeira', 'Largura': '90 cm', 'Comprimento': '53.5 cm', 'Profundidade': '33 cm', 'Peso': '17.75 kg', 'Quantidade de gavetas': '0', 'Quantidade de portas': '3', 'Quantidade de prateleiras': '1', 'Requer montagem': 'Sim', 'Com alça': 'Não', 'Com corrediças': 'Não', 'Inclui manual de montagem': 'Sim'}",
         "info_products_10_escritório.json"
        ],
        [
         "49",
         "MLB28528168",
         "Etiqueta Impressora A4 99,1 X 93,1mm 100 Fls Ca4366 Colacril Cor Branco",
         "{'Marca': 'Colacril', 'Tamanho do papel': 'A4 366 Pimaco', 'Tipo de papel': 'Multifunção', 'Cor': 'Branco', 'Quantidade de folhas': '100', 'Gramagem': '75 g', 'Formato de venda': 'Unidade', 'Unidades por kit': '1', 'Cor principal': 'Branco', 'Peso': '200 g', 'É resma': 'Não', 'É adesivo': 'Sim', 'Acabamento': 'Fosco'}",
         "info_products_10_escritório.json"
        ]
       ],
       "shape": {
        "columns": 4,
        "rows": 12648
       }
      },
      "text/html": [
       "<div>\n",
       "<style scoped>\n",
       "    .dataframe tbody tr th:only-of-type {\n",
       "        vertical-align: middle;\n",
       "    }\n",
       "\n",
       "    .dataframe tbody tr th {\n",
       "        vertical-align: top;\n",
       "    }\n",
       "\n",
       "    .dataframe thead th {\n",
       "        text-align: right;\n",
       "    }\n",
       "</style>\n",
       "<table border=\"1\" class=\"dataframe\">\n",
       "  <thead>\n",
       "    <tr style=\"text-align: right;\">\n",
       "      <th></th>\n",
       "      <th>PRODUCT_ID</th>\n",
       "      <th>TITLE</th>\n",
       "      <th>ATTRIBUTES</th>\n",
       "      <th>SOURCE_FILE</th>\n",
       "    </tr>\n",
       "  </thead>\n",
       "  <tbody>\n",
       "    <tr>\n",
       "      <th>0</th>\n",
       "      <td>MLB29523289</td>\n",
       "      <td>Base Estrela Secretaria Em Aço C/ Rodízios E C...</td>\n",
       "      <td>{'Marca': 'cadeira giratória diretora', 'Fabri...</td>\n",
       "      <td>info_products_10_escritório.json</td>\n",
       "    </tr>\n",
       "    <tr>\n",
       "      <th>1</th>\n",
       "      <td>MLB34230359</td>\n",
       "      <td>Escrivaninha Office Nt2105 Notável Móveis Cor ...</td>\n",
       "      <td>{'Marca': 'Notável Móveis', 'Modelo': 'NT2105'...</td>\n",
       "      <td>info_products_10_escritório.json</td>\n",
       "    </tr>\n",
       "    <tr>\n",
       "      <th>2</th>\n",
       "      <td>MLB15904595</td>\n",
       "      <td>Cadeira de Escritório Mymax Gamer MX5 Cor Preto</td>\n",
       "      <td>{'Marca': 'Mymax', 'Linha': 'Gamer', 'Modelo':...</td>\n",
       "      <td>info_products_10_escritório.json</td>\n",
       "    </tr>\n",
       "    <tr>\n",
       "      <th>3</th>\n",
       "      <td>MLB26801865</td>\n",
       "      <td>Marmita Dupla Camada Á Prova De Vazamento Imed...</td>\n",
       "      <td>{'Marca': 'Marmita,Lancheira,Escritorio', 'Mod...</td>\n",
       "      <td>info_products_10_escritório.json</td>\n",
       "    </tr>\n",
       "    <tr>\n",
       "      <th>4</th>\n",
       "      <td>MLB22522670</td>\n",
       "      <td>Cadeira de escritório TGTTGT-OFC-001 TGT ergon...</td>\n",
       "      <td>{'Marca': 'TGT', 'Linha': 'cadeira fixa escrit...</td>\n",
       "      <td>info_products_10_escritório.json</td>\n",
       "    </tr>\n",
       "    <tr>\n",
       "      <th>...</th>\n",
       "      <td>...</td>\n",
       "      <td>...</td>\n",
       "      <td>...</td>\n",
       "      <td>...</td>\n",
       "    </tr>\n",
       "    <tr>\n",
       "      <th>12643</th>\n",
       "      <td>MLB23573140</td>\n",
       "      <td>Jd Móveis eccos+genova gabinete para pia e esp...</td>\n",
       "      <td>{'Marca': 'Jd Móveis', 'Linha': 'Banheiro', 'M...</td>\n",
       "      <td>info_products_9_banheiro.json</td>\n",
       "    </tr>\n",
       "    <tr>\n",
       "      <th>12644</th>\n",
       "      <td>MLB26685521</td>\n",
       "      <td>Prateleira Docol Square Níquel Escovado 388244</td>\n",
       "      <td>{'Marca': 'Docol', 'Linha': 'Square', 'Modelo'...</td>\n",
       "      <td>info_products_9_banheiro.json</td>\n",
       "    </tr>\n",
       "    <tr>\n",
       "      <th>12645</th>\n",
       "      <td>MLB21906090</td>\n",
       "      <td>Gabinete Armário Banheiro C/ Rodízios Branco E...</td>\n",
       "      <td>{'Marca': 'Tema', 'Modelo': 'Tekim', 'Cor do m...</td>\n",
       "      <td>info_products_9_banheiro.json</td>\n",
       "    </tr>\n",
       "    <tr>\n",
       "      <th>12646</th>\n",
       "      <td>MLB38278657</td>\n",
       "      <td>Suporte Duplo De Canto P/ Banheiro Aço Inox Re...</td>\n",
       "      <td>{'Marca': 'EmbralumiEmbralumi', 'Linha': 'Prem...</td>\n",
       "      <td>info_products_9_banheiro.json</td>\n",
       "    </tr>\n",
       "    <tr>\n",
       "      <th>12647</th>\n",
       "      <td>MLB41152149</td>\n",
       "      <td>Espelheira Com Nicho Em Vidro 3mm Genova Becha...</td>\n",
       "      <td>{'Marca': 'Jd Móveis', 'Linha': 'Banheiro', 'M...</td>\n",
       "      <td>info_products_9_banheiro.json</td>\n",
       "    </tr>\n",
       "  </tbody>\n",
       "</table>\n",
       "<p>12648 rows × 4 columns</p>\n",
       "</div>"
      ],
      "text/plain": [
       "        PRODUCT_ID                                              TITLE  \\\n",
       "0      MLB29523289  Base Estrela Secretaria Em Aço C/ Rodízios E C...   \n",
       "1      MLB34230359  Escrivaninha Office Nt2105 Notável Móveis Cor ...   \n",
       "2      MLB15904595    Cadeira de Escritório Mymax Gamer MX5 Cor Preto   \n",
       "3      MLB26801865  Marmita Dupla Camada Á Prova De Vazamento Imed...   \n",
       "4      MLB22522670  Cadeira de escritório TGTTGT-OFC-001 TGT ergon...   \n",
       "...            ...                                                ...   \n",
       "12643  MLB23573140  Jd Móveis eccos+genova gabinete para pia e esp...   \n",
       "12644  MLB26685521     Prateleira Docol Square Níquel Escovado 388244   \n",
       "12645  MLB21906090  Gabinete Armário Banheiro C/ Rodízios Branco E...   \n",
       "12646  MLB38278657  Suporte Duplo De Canto P/ Banheiro Aço Inox Re...   \n",
       "12647  MLB41152149  Espelheira Com Nicho Em Vidro 3mm Genova Becha...   \n",
       "\n",
       "                                              ATTRIBUTES  \\\n",
       "0      {'Marca': 'cadeira giratória diretora', 'Fabri...   \n",
       "1      {'Marca': 'Notável Móveis', 'Modelo': 'NT2105'...   \n",
       "2      {'Marca': 'Mymax', 'Linha': 'Gamer', 'Modelo':...   \n",
       "3      {'Marca': 'Marmita,Lancheira,Escritorio', 'Mod...   \n",
       "4      {'Marca': 'TGT', 'Linha': 'cadeira fixa escrit...   \n",
       "...                                                  ...   \n",
       "12643  {'Marca': 'Jd Móveis', 'Linha': 'Banheiro', 'M...   \n",
       "12644  {'Marca': 'Docol', 'Linha': 'Square', 'Modelo'...   \n",
       "12645  {'Marca': 'Tema', 'Modelo': 'Tekim', 'Cor do m...   \n",
       "12646  {'Marca': 'EmbralumiEmbralumi', 'Linha': 'Prem...   \n",
       "12647  {'Marca': 'Jd Móveis', 'Linha': 'Banheiro', 'M...   \n",
       "\n",
       "                            SOURCE_FILE  \n",
       "0      info_products_10_escritório.json  \n",
       "1      info_products_10_escritório.json  \n",
       "2      info_products_10_escritório.json  \n",
       "3      info_products_10_escritório.json  \n",
       "4      info_products_10_escritório.json  \n",
       "...                                 ...  \n",
       "12643     info_products_9_banheiro.json  \n",
       "12644     info_products_9_banheiro.json  \n",
       "12645     info_products_9_banheiro.json  \n",
       "12646     info_products_9_banheiro.json  \n",
       "12647     info_products_9_banheiro.json  \n",
       "\n",
       "[12648 rows x 4 columns]"
      ]
     },
     "execution_count": 3,
     "metadata": {},
     "output_type": "execute_result"
    }
   ],
   "source": [
    "products_df"
   ]
  },
  {
   "cell_type": "code",
   "execution_count": 4,
   "id": "2a1ab0ae",
   "metadata": {},
   "outputs": [],
   "source": [
    "hazmat_classifier_system_msg = f\"\"\"\n",
    "You are a domain-expert Hazmat classifier. Your task is to analyze the products below and determine, for each, if it is Hazmat or not, based on the definition provided between <hazmat_definition> tags.\n",
    "\n",
    "You must base your analysis on the following JSON schema, which describes the required analysis for each product in the fields:\n",
    "<json_schema>{HazmatClassification.model_json_schema()}</json_schema>\n",
    "\n",
    "Before answering, you must output your detailed reasoning process.\n",
    "\n",
    "Hazmat definition: <hazmat_definition>{hazmat_def}</hazmat_definition>\n",
    "\n",
    "Guidelines:\n",
    "- Always refer to the Hazmat definition to address the classification. Do not suppose anything. If not certain of the classification, output as hazmat with lower confidence.\n",
    "- Only output a product as non-hazmat if you are absolutely certain that it is not a Hazmat according to the definition provided.\n",
    "\"\"\"\n",
    "\n",
    "hazmat_json_extractor_system_msg = f\"\"\"\n",
    "You are a domain-expert Hazmat classifier. Based on the analysis below, extract and output the final answer as a jsonl structure, located between <jsonl> tags, with each line following this schema (one line per product): <json_schema>{HazmatClassification.model_json_schema()}</json_schema>.\n",
    "\n",
    "Guidelines:\n",
    "- For the tag <jsonl>: The final answer must be a valid jsonl structure, with each line following the schema provided.\n",
    "- If not certain of the classification, output as hazmat with lower confidence.\n",
    "- Only output a product as non-hazmat if you are absolutely certain that it is not a Hazmat according to the definition provided.\n",
    "\"\"\""
   ]
  },
  {
   "cell_type": "code",
   "execution_count": 5,
   "id": "ed158056",
   "metadata": {},
   "outputs": [],
   "source": [
    "from defs_and_tools import call_llm, extract_from_tag\n",
    "from dotenv import load_dotenv\n",
    "\n",
    "load_dotenv()\n",
    "\n",
    "# json_extractor_models = [\"groq/llama-3.3-70b-versatile\",\n",
    "#                         \"groq/llama3-70b-8192\",\n",
    "#                         \"gemini/gemini-2.0-flash\"]\n",
    "# json_extractor_model = \"gemini/gemini-2.0-flash\" # Did not create the tags correctly for output parsing\n",
    "json_extractor_model = \"gemini/gemini-2.5-flash\"\n",
    "hazmat_classifier_model = \"gemini/gemini-2.5-flash\""
   ]
  },
  {
   "cell_type": "code",
   "execution_count": 40,
   "id": "d8f2e9cc",
   "metadata": {},
   "outputs": [
    {
     "name": "stdout",
     "output_type": "stream",
     "text": [
      "Processing batch 1 with 60 products...\n",
      "Raw response received, formatting to JSONL...\n",
      "Raw response received, formatting to JSONL...\n",
      "Batch 1 jsonl content extracted!\n",
      "Batch 1 processed and saved to data/dataset_1/dataset_1_classified_products.jsonl and data/dataset_1/dataset_1_raw_log.txt!\n",
      "----------------------------------------\n",
      "Batch 1 jsonl content extracted!\n",
      "Batch 1 processed and saved to data/dataset_1/dataset_1_classified_products.jsonl and data/dataset_1/dataset_1_raw_log.txt!\n",
      "----------------------------------------\n"
     ]
    }
   ],
   "source": [
    "def classify_products(products_df, batch_size=30, output_jsonl=\"classified_products.jsonl\", log_file=\"log_file.txt\"):\n",
    "    \"\"\"Classify products in batches and save results.\"\"\"\n",
    "\n",
    "    for i in range(0, len(products_df), batch_size):\n",
    "        batch = products_df.iloc[i:i + batch_size]\n",
    "        batch_list = batch.to_dict(orient=\"records\")\n",
    "        \n",
    "        print(f\"Processing batch {i//batch_size + 1} with {len(batch_list)} products...\")\n",
    "        raw_response = call_llm(\n",
    "            system=hazmat_classifier_system_msg,\n",
    "            prompt=f\"Products to classify:\\n{batch_list}\",\n",
    "            model=hazmat_classifier_model,\n",
    "        )\n",
    "        \n",
    "        print(\"Raw response received, formatting to JSONL...\")\n",
    "        formatted_response = call_llm(\n",
    "            system=hazmat_json_extractor_system_msg,\n",
    "            prompt=raw_response,\n",
    "            model=json_extractor_model,\n",
    "        )\n",
    "        \n",
    "        # Save JSONL output\n",
    "        jsonl_content = extract_from_tag(formatted_response, \"jsonl\")\n",
    "        if jsonl_content:\n",
    "            print(f\"Batch {i//batch_size + 1} jsonl content extracted!\")\n",
    "            with open(output_jsonl, \"a\", encoding=\"utf-8\") as f:\n",
    "                f.write(jsonl_content + \"\\n\")\n",
    "        \n",
    "        # Save raw log\n",
    "        with open(log_file, \"a\", encoding=\"utf-8\") as f:\n",
    "            f.write(f\"Batch {i//batch_size + 1}:\\n{raw_response}\\n\\n\")\n",
    "        \n",
    "        print(f\"Batch {i//batch_size + 1} processed and saved to {output_jsonl} and {log_file}!\")\n",
    "        print(40*\"-\")\n",
    "\n",
    "classify_products(products_df, \n",
    "                  output_jsonl=f\"data/{DATASET}/{DATASET}_classified_products.jsonl\",\n",
    "                  log_file=f\"data/{DATASET}/{DATASET}_raw_log.txt\",\n",
    "                  batch_size=batch_size)"
   ]
  },
  {
   "cell_type": "code",
   "execution_count": 6,
   "id": "bf46b7ee",
   "metadata": {},
   "outputs": [],
   "source": [
    "import json\n",
    "\n",
    "# Prompt: Open jsonl file and insert result into dataframe products_df. The json file may contain different encodings, so handle it properly.\n",
    "\n",
    "def try_decode_line(line):\n",
    "    for encoding in [\"utf-8\", \"latin1\", \"utf-8-sig\"]:\n",
    "        try:\n",
    "            return line.decode(encoding)\n",
    "        except Exception:\n",
    "            continue\n",
    "    return None  # if all fail\n",
    "\n",
    "jsonl_path = f\"data/{DATASET}/{DATASET}_classified_products.jsonl\"\n",
    "classified_rows = []\n",
    "\n",
    "with open(jsonl_path, \"rb\") as f:  # read as binary to handle mixed encoding\n",
    "    for bline in f:\n",
    "        decoded_line = try_decode_line(bline)\n",
    "        if decoded_line and decoded_line.strip():\n",
    "            try:\n",
    "                row = json.loads(decoded_line)\n",
    "                # Convert all keys to uppercase for consistency\n",
    "                row = {k.upper(): v for k, v in row.items()}\n",
    "                classified_rows.append(row)\n",
    "            except json.JSONDecodeError:\n",
    "                continue  # skip corrupted JSON lines\n",
    "\n",
    "classified_df = pd.DataFrame(classified_rows)\n",
    "classified_df.columns = [col.upper() for col in classified_df.columns]\n",
    "\n",
    "# Convert all columns in products_df to uppercase for consistency\n",
    "products_df.columns = [col.upper() for col in products_df.columns]\n",
    "\n",
    "# Merge classified_df with products_df on 'PRODUCT_ID'\n",
    "products_df = products_df.merge(\n",
    "    classified_df,\n",
    "    on='PRODUCT_ID',\n",
    "    how='left',\n",
    "    suffixes=(\"\", \"_CLASSIFIED\")\n",
    ")\n",
    "\n",
    "products_df.head()\n",
    "# Save the updated products_df with classifications\n",
    "products_df.to_csv(f\"data/{DATASET}/{DATASET}_classified_products.csv\", index=False, encoding=\"utf-8\")"
   ]
  },
  {
   "cell_type": "code",
   "execution_count": 7,
   "id": "024f4db2",
   "metadata": {},
   "outputs": [
    {
     "data": {
      "application/vnd.microsoft.datawrangler.viewer.v0+json": {
       "columns": [
        {
         "name": "index",
         "rawType": "int64",
         "type": "integer"
        },
        {
         "name": "PRODUCT_ID",
         "rawType": "object",
         "type": "string"
        },
        {
         "name": "TITLE",
         "rawType": "object",
         "type": "string"
        },
        {
         "name": "ATTRIBUTES",
         "rawType": "object",
         "type": "string"
        },
        {
         "name": "SOURCE_FILE",
         "rawType": "object",
         "type": "string"
        },
        {
         "name": "IS_HAZMAT",
         "rawType": "bool",
         "type": "boolean"
        },
        {
         "name": "REASON",
         "rawType": "object",
         "type": "unknown"
        },
        {
         "name": "CONFIDENCE",
         "rawType": "object",
         "type": "unknown"
        }
       ],
       "ref": "4deb75bf-097a-40fe-9a5f-27eb618056d5",
       "rows": [
        [
         "0",
         "MLB29523289",
         "Base Estrela Secretaria Em Aço C/ Rodízios E Capa Plástica",
         "{'Marca': 'cadeira giratória diretora', 'Fabricante': 'gamer escritório ajustavél', 'Modelo': 'Aço Nylon PP', 'Cor': 'Preto', 'Quantidade de assentos': '0', 'Material do assento': 'Não tem', 'Materiais da estrutura': 'Ferro, Plástico', 'Com compartimento para livros': 'Não', 'Requer montagem': 'Não'}",
         "info_products_10_escritório.json",
         "False",
         null,
         null
        ],
        [
         "1",
         "MLB34230359",
         "Escrivaninha Office Nt2105 Notável Móveis Cor Freijó Trend",
         "{'Marca': 'Notável Móveis', 'Modelo': 'NT2105', 'Comprimento': '123 cm', 'Cor': 'Freijó Trend', 'Capacidade em peso': '20 kg', 'Materiais da escrivaninha': 'MDP', 'Requer montagem': 'Sim', 'Com gavetas': 'Não', 'Inclui estante para livros': 'Sim', 'É flutuante': 'Não', 'É em forma de L': 'Não', 'É gamer': 'Não', 'Com luzes LED': 'Não'}",
         "info_products_10_escritório.json",
         "False",
         null,
         null
        ],
        [
         "2",
         "MLB15904595",
         "Cadeira de Escritório Mymax Gamer MX5 Cor Preto",
         "{'Marca': 'Mymax', 'Linha': 'Gamer', 'Modelo': 'MX5', 'Cor': 'Preto', 'Material do estofamento': 'Tecido sintético PU', 'Unidades por kit': '1', 'Modelo detalhado': 'MGCH-MX5/BK', 'Cor principal': 'Preto', 'Cor filtrável': 'Preto', 'Tipo de cadeira de escritório': 'Gamer', 'Materiais da estrutura': 'Metal', 'Materiais do enchimento': 'Espuma', 'Altura do encosto': '83 cm', 'Profundidade do assento': '53 cm', 'Largura da cadeira': '68 cm', 'Altura máxima da cadeira': '137 cm', 'Peso máximo suportado': '150 kg', 'Requer montagem': 'Sim', 'Com altura ajustável': 'Sim', 'Com aro para pés': 'Não', 'Com apoio de braços': 'Sim', 'Com encosto reclinável': 'Sim', 'Com rodas': 'Sim', 'Com luzes': 'Não', 'Com apoio de braços ajustável': 'Sim', 'Com apoio de cabeça': 'Sim', 'Com apoio de pés': 'Não', 'É gamer': 'Sim', 'É ergonômica': 'Sim', 'É giratória': 'Sim', 'Inclui manual de montagem': 'Sim', 'Tipo de apoio lombar': 'Regulável', 'Acabamento da estrutura': 'Cromado', 'Tipos de mecanismos de reclinação': 'Encosto reclinável, Basculante', 'Faixa de inclinação do encosto': '90 ° x 180 °', 'Profundidade da cadeira': '32 cm', 'Diâmetro da base': '70 cm', 'Peso da cadeira': '30 kg', 'Largura do assento': '34 cm', 'Altura mínima do chão ao assento': '45 cm', 'Altura máxima do chão ao assento\\r': '55 cm', 'Altura mínima da cadeira': '127 cm', 'MPN': '25.009173'}",
         "info_products_10_escritório.json",
         "False",
         null,
         null
        ],
        [
         "3",
         "MLB26801865",
         "Marmita Dupla Camada Á Prova De Vazamento Imediato",
         "{'Marca': 'Marmita,Lancheira,Escritorio', 'Modelo': 'Marmita dupla', 'Cor': 'Azul', 'Formato de venda': 'Unidade', 'Unidades por kit': '1', 'Unidades por embalagem': '1', 'Capacidade em volume': '1.2 L', 'Material': 'Plástico', 'Forma': 'Retangular', 'Comprimento': '21 cm', 'Largura': '15 cm', 'Altura': '8 cm', 'Diâmetro': '20 cm', 'É hermético': 'Sim', 'É apto para micro-ondas': 'Sim', 'É apto para lava-louças': 'Sim', 'Com tampa': 'Sim', 'Tipo de tampa': 'Hermética'}",
         "info_products_10_escritório.json",
         "False",
         null,
         null
        ],
        [
         "4",
         "MLB22522670",
         "Cadeira de escritório TGTTGT-OFC-001 TGT ergonômica  preta com estofado de malha",
         "{'Marca': 'TGT', 'Linha': 'cadeira fixa escritorio', 'Modelo': 'TGT-OFC-001', 'Modelo alfanumérico': 'TS100', 'Cor': 'Preto', 'Material do estofamento': 'Malha', 'Formato de venda': 'Unidade', 'Unidades por kit': '1', 'Modelo detalhado': 'TGT-OFC-001', 'Cor principal': 'Preto', 'Tipo de cadeira de escritório': 'Escritório', 'Materiais da estrutura': 'Aço', 'Materiais do enchimento': 'Espuma', 'Materiais do aro para pés': 'Metal', 'Altura do encosto': '49 cm', 'Profundidade do assento': '49 cm', 'Largura da cadeira': '47 cm', 'Altura máxima da cadeira': '98 cm', 'Peso máximo suportado': '100 kg', 'Requer montagem': 'Sim', 'Com altura ajustável': 'Sim', 'Com aro para pés': 'Não', 'Com apoio de braços': 'Sim', 'Com encosto reclinável': 'Não', 'Com rodas': 'Sim', 'Com luzes': 'Não', 'Com apoio de braços ajustável': 'Não', 'Com apoio de cabeça': 'Não', 'Com apoio de pés': 'Não', 'É gamer': 'Não', 'É ergonômica': 'Sim', 'É giratória': 'Sim', 'Tipo de apoio lombar': 'Fixo', 'Acabamento da estrutura': 'aço', 'Altura da cadeira': '98 cm', 'Profundidade da cadeira': '47 cm', 'Diâmetro da base': '58 cm', 'Peso da cadeira': '8 kg', 'Largura do assento': '49 cm', 'Largura do encosto': '48 cm', 'Altura mínima do chão ao assento': '42 cm', 'Altura máxima do chão ao assento\\r': '50 cm', 'Altura mínima da cadeira': '42 cm'}",
         "info_products_10_escritório.json",
         "False",
         null,
         null
        ],
        [
         "5",
         "MLB18953767",
         "Escrivaninha Tecno Mobili ME4116 mdp de 1.573m x 745mm x 600mm x 1573mm preto BP",
         "{'Marca': 'Tecno Mobili', 'Modelo': 'ME4116', 'Comprimento': '157.3 cm', 'Profundidade': '60 cm', 'Largura': '157.3 cm', 'Altura': '74.5 cm', 'Cor': 'Preto', 'Cor principal': 'Preto', 'Materiais da escrivaninha': 'MDP', 'Estilo': 'Moderno', 'Requer montagem': 'Sim', 'Com gavetas': 'Não', 'Quantidade de gavetas': '0', 'Inclui estante para livros': 'Não', 'É flutuante': 'Não', 'É em forma de L': 'Sim', 'É gamer': 'Não', 'Com luzes LED': 'Não', 'Inclui manual de instruções': 'Sim', 'Inclui kit de instalação': 'Sim', 'Peso': '37.1 kg', 'Acabamentos': 'BP', 'Com portas': 'Não', 'Com fechadura': 'Não', 'Inclui chaves': 'Não', 'Com prateleiras': 'Não', 'Quantidade de prateleiras': '0', 'Com prateleira para CPU': 'Não'}",
         "info_products_10_escritório.json",
         "False",
         null,
         null
        ],
        [
         "6",
         "MLB25889762",
         "Stark Mesa Pc Gamer Escrivaninha Notebook 1 Gaveta para Escritorio Quarto Pequena Bcg Cor Preto",
         "{'Marca': 'Stark', 'Modelo': 'Escrivaninha Gaveta Móveis', 'Comprimento': '70 cm', 'Profundidade': '40 cm', 'Largura': '70 cm', 'Altura': '78 cm', 'Cor': 'Preto', 'Cor principal': 'Preto', 'Capacidade em peso': '35 kg', 'Materiais da escrivaninha': 'Mdp', 'Estilo': 'Moderno', 'Tempo de montagem': '20 m', 'Requer montagem': 'Sim', 'Com gavetas': 'Sim', 'Quantidade de gavetas': '1', 'Inclui estante para livros': 'Sim', 'É flutuante': 'Não', 'É em forma de L': 'Não', 'É gamer': 'Sim', 'Com luzes LED': 'Não', 'Inclui manual de instruções': 'Sim', 'Inclui kit de instalação': 'Sim', 'Com portas': 'Não', 'Com fechadura': 'Não', 'Inclui chaves': 'Não', 'Com prateleiras': 'Sim', 'Quantidade de prateleiras': '1', 'Com prateleira para CPU': 'Não', 'Com rodas': 'Não', 'Com bandeja móvel': 'Sim'}",
         "info_products_10_escritório.json",
         "False",
         null,
         null
        ],
        [
         "7",
         "MLB41107171",
         "Kit 2 Cadeiras Esteirinha Interlocutor Secretária Pés Fixos Cor Preto",
         "{'Marca': 'Mm Home', 'Linha': 'Cadeira Para Escritório', 'Modelo': 'Cadeira office gamer top', 'Modelo alfanumérico': 'JH716', 'Cor': 'Preto', 'Material do estofamento': 'Couro sintético', 'Formato de venda': 'Kit', 'Unidades por kit': '2', 'Modelo detalhado': 'Escritório', 'Cor principal': 'Preto', 'Tipo de cadeira de escritório': 'Fixa', 'Materiais da estrutura': 'Metal', 'Materiais do enchimento': 'Espuma', 'Com altura ajustável': 'Não', 'Com aro para pés': 'Não', 'Com apoio de braços': 'Sim', 'Com encosto reclinável': 'Não', 'Com rodas': 'Não', 'Com luzes': 'Não', 'Com apoio de braços ajustável': 'Não', 'Com apoio de cabeça': 'Não', 'Com apoio de pés': 'Não', 'É gamer': 'Não', 'É ergonômica': 'Sim', 'É giratória': 'Não', 'Tipo de apoio lombar': 'Fixo', 'Acabamento da estrutura': 'Cromado', 'Altura da cadeira': '139 cm', 'Altura mínima do chão ao assento': '40 cm', 'Altura máxima do chão ao assento\\r': '50 cm'}",
         "info_products_10_escritório.json",
         "False",
         null,
         null
        ],
        [
         "8",
         "MLB22508518",
         "Escrivaninha Com Gaveta Ofertamo Compact Not 70cm Off White",
         "{'Marca': 'Ofertamo', 'Modelo': 'Ofertamo Compact 70Cm', 'Largura': '68 cm', 'Altura': '77 cm', 'Cor': 'Cinza-escuro', 'Materiais da escrivaninha': 'MDF', 'Com gavetas': 'Sim', 'MPN': 'Escrivaninha com gaveta ofertamo compact not 70cm off white/'}",
         "info_products_10_escritório.json",
         "False",
         null,
         null
        ],
        [
         "9",
         "MLB23546531",
         "Câmera Segurança Tomada 360 Wifi Ip Full Hd Visão Noturna",
         "{'Marca': 'Smart', 'Linha': 'Smart IP E27', 'Modelo': 'E27', 'Cor': 'WI-FI', 'Unidades por kit': '1', 'Tipo de câmera de vigilância': 'IP', 'Qualidade de resoluçao': '2MP', 'Tipo de resolução': 'HD', 'Lugares de montagem': 'Casa, Cozinha, Escritório, Quarto, Sala', 'Conectividade': 'Wifi 2.4g', 'Tipos de conexões': 'Wifi2.4', 'Localizações da câmera': 'Interior', 'Campo visual': '360 °', 'É motorizada': 'Sim', 'Tipo de movimento': 'PTZ', 'Zoom óptico': '2x', 'Zoom digital': '2x', 'Com visão noturna': 'Sim', 'Com visão noturna colorida': 'Sim', 'Temperatura mínima suportada': '60 °C', 'Temperatura máxima suportada': '0 °C', 'Formato da câmera espiã': 'Foco', 'Potência': '3 W', 'Com sensor de movimento': 'Sim', 'Com alerta à móvel': 'Sim', 'Com alarme': 'Sim', 'Com áudio bidirecional': 'Sim', 'Com microfone': 'Sim', 'Com vídeo ao vivo': 'Sim', 'Com redução de ruído': 'Sim', 'É resistente à água': 'Não'}",
         "info_products_10_escritório.json",
         "False",
         null,
         null
        ],
        [
         "10",
         "MLB44809994",
         "Estante Para Livros Industrial Livreiro Com Prateleiras De Madeira E Estrutura De Ferro Design Moderno Para Escritório Mod: Etranger 3.0",
         "{'Marca': 'Sofa Sogude', 'Modelo': 'Etrang3er', 'Cor': 'Lamina com Preto', 'Cor principal': 'Preto', 'Acabamento': 'Fosco', 'Estilo': 'Industrial', 'Material da estrutura': 'Ferro', 'Material das prateleiras': 'Madeira', 'Quantidade de prateleiras': '5', 'Altura': '189 cm', 'Largura': '80 cm', 'Profundidade': '36 cm', 'Requer montagem': 'Sim'}",
         "info_products_10_escritório.json",
         "False",
         null,
         null
        ],
        [
         "11",
         "MLB19582938",
         "Cadeira De Escritório Presidente Cor Branco Ergonômica Executiva Giratória Acabamento em Couro Sintético e Madeira Premium Fratini Kopenhagen",
         "{'Marca': 'Fratini', 'Modelo': 'Kopenhagen presidente', 'Cor': 'Branco', 'Material do estofamento': 'Couro sintético', 'Unidades por kit': '1', 'Cor principal': 'Branco', 'Tipo de cadeira de escritório': 'Executiva', 'Materiais da estrutura': 'Madeira', 'Materiais do enchimento': 'Espuma', 'Altura do encosto': '54 cm', 'Profundidade do assento': '50 cm', 'Largura da cadeira': '63 cm', 'Altura máxima da cadeira': '124 cm', 'Peso máximo suportado': '120 kg', 'Requer montagem': 'Sim', 'Com altura ajustável': 'Sim', 'Com aro para pés': 'Não', 'Com apoio de braços': 'Sim', 'Com encosto reclinável': 'Sim', 'Com rodas': 'Sim', 'Com apoio de cabeça': 'Sim', 'Com apoio de pés': 'Não', 'É gamer': 'Não', 'É ergonômica': 'Sim', 'É giratória': 'Sim', 'Tipo de apoio lombar': 'Fixo', 'Acabamento da estrutura': 'Cromado', 'Tipos de mecanismos de reclinação': 'Encosto reclinável', 'Profundidade da cadeira': '63 cm', 'Peso da cadeira': '4.41 kg', 'Largura do assento': '49 cm', 'Altura mínima do chão ao assento': '42 cm', 'Altura máxima do chão ao assento\\r': '50 cm', 'Altura mínima da cadeira': '116 cm'}",
         "info_products_10_escritório.json",
         "False",
         null,
         null
        ],
        [
         "12",
         "MLB26982962",
         "Escrivaninha Up Home Decor Industrial mdp de 120m x 75cm x 53cm branco Fosco",
         "{'Marca': 'Up Home Decor', 'Modelo': 'Industrial', 'Comprimento': '12000 cm', 'Profundidade': '53 cm', 'Largura': '53 cm', 'Altura': '75 cm', 'Cor': 'Branco', 'Cor principal': 'Branco', 'Capacidade em peso': '20 kg', 'Materiais da escrivaninha': 'MDP, Ferro', 'Requer montagem': 'Sim', 'Com gavetas': 'Não', 'Inclui estante para livros': 'Não', 'É flutuante': 'Não', 'É em forma de L': 'Não', 'Com luzes LED': 'Não', 'Acabamentos': 'Fosco'}",
         "info_products_10_escritório.json",
         "False",
         null,
         null
        ],
        [
         "13",
         "MLB32459667",
         "Etiqueta Impressora A4 38,1 X 21,2mm 100 Fls Ca4351 Colacril Cor Branco",
         "{'Marca': 'Colacril', 'Tamanho do papel': 'A4', 'Tipo de papel': 'PAPEL ADESIVO', 'Cor': 'Branco', 'Quantidade de folhas': '100', 'Gramagem': '60 g', 'Formato de venda': 'Kit', 'Unidades por kit': '6500', 'Peso': '800 g', 'É resma': 'Não', 'É adesivo': 'Sim', 'Acabamento': 'Branco'}",
         "info_products_10_escritório.json",
         "False",
         null,
         null
        ],
        [
         "14",
         "MLB30185053",
         "Armário Aéreo Escritório Com Nicho Prateleira 120cm Madesa B Cor Branco MDFC01000209",
         "{'Modelo': 'MDFC01000209', 'Marca': 'Madesa', 'Cor': 'Branco', 'Material': 'MDP', 'Quantidade de portas': '2', 'Requer montagem': 'Sim'}",
         "info_products_10_escritório.json",
         "False",
         null,
         null
        ],
        [
         "15",
         "MLB24720569",
         "Mesa Escrivaninha Fit 4 Prateleiras Preto - Art Panta",
         "{'Marca': 'Art Panta', 'Modelo': 'Fit', 'Comprimento': '130 cm', 'Profundidade': '45 cm', 'Largura': '130 cm', 'Altura': '146 cm', 'Cor': 'Preto', 'Cor principal': 'Preto', 'Materiais da escrivaninha': 'Aço, MDF', 'Estilo': 'Moderno', 'Requer montagem': 'Sim', 'Com gavetas': 'Não', 'Inclui estante para livros': 'Sim', 'É flutuante': 'Não', 'É em forma de L': 'Não', 'É gamer': 'Não', 'Com luzes LED': 'Não', 'Acabamentos': 'Fosco, Laqueado', 'Com portas': 'Não', 'Com fechadura': 'Não', 'Inclui chaves': 'Não', 'Com prateleiras': 'Sim', 'Quantidade de prateleiras': '5', 'Com prateleira para CPU': 'Não', 'Com rodas': 'Não', 'Com módulo móvel': 'Não', 'Com altura ajustável': 'Não', 'Com ângulo ajustável': 'Não', 'É dobrável': 'Não', 'Com portas USB': 'Não', 'Com tomadas': 'Não', 'Com passa-cabos': 'Não', 'Com bandeja móvel': 'Não'}",
         "info_products_10_escritório.json",
         "False",
         null,
         null
        ],
        [
         "16",
         "MLB24720569",
         "Mesa Escrivaninha Fit 4 Prateleiras Preto - Art Panta",
         "{'Marca': 'Art Panta', 'Modelo': 'Fit', 'Comprimento': '130 cm', 'Profundidade': '45 cm', 'Largura': '130 cm', 'Altura': '146 cm', 'Cor': 'Preto', 'Cor principal': 'Preto', 'Materiais da escrivaninha': 'Aço, MDF', 'Estilo': 'Moderno', 'Requer montagem': 'Sim', 'Com gavetas': 'Não', 'Inclui estante para livros': 'Sim', 'É flutuante': 'Não', 'É em forma de L': 'Não', 'É gamer': 'Não', 'Com luzes LED': 'Não', 'Acabamentos': 'Fosco, Laqueado', 'Com portas': 'Não', 'Com fechadura': 'Não', 'Inclui chaves': 'Não', 'Com prateleiras': 'Sim', 'Quantidade de prateleiras': '5', 'Com prateleira para CPU': 'Não', 'Com rodas': 'Não', 'Com módulo móvel': 'Não', 'Com altura ajustável': 'Não', 'Com ângulo ajustável': 'Não', 'É dobrável': 'Não', 'Com portas USB': 'Não', 'Com tomadas': 'Não', 'Com passa-cabos': 'Não', 'Com bandeja móvel': 'Não'}",
         "info_products_10_escritório.json",
         "False",
         null,
         null
        ],
        [
         "17",
         "MLB28853675",
         "Porta Caneta Organizador De Mesa 7 Divisões Dello Cor Cristal",
         "{'Marca': 'Dello', 'Modelo': 'Dello Porta Caneta', 'Tipo de produto': 'Organizador de mesa', 'Cor': 'Cristal', 'Peso': '170 kg', 'Quantidade de compartimentos': '7'}",
         "info_products_10_escritório.json",
         "False",
         null,
         null
        ],
        [
         "18",
         "MLB26115411",
         "Cadeira Mocho C/ Encosto Giratório Massagista Plus Evolux Cor Preto",
         "{'Marca': 'Evolux', 'Modelo': 'Mocho Encosto Plus', 'Modelo alfanumérico': 'N2232783', 'Cor': 'Preto', 'Unidades por kit': '1', 'Modelo detalhado': 'N2232783', 'Cor principal': 'Preto', 'Tipo de cadeira de escritório': 'Massagista', 'Materiais da estrutura': 'Metal', 'Materiais do enchimento': 'Espuma', 'Altura do encosto': '30 cm', 'Profundidade do assento': '40 cm', 'Largura da cadeira': '50 cm', 'Altura máxima da cadeira': '100 cm', 'Peso máximo suportado': '120 kg', 'Requer montagem': 'Sim', 'Com altura ajustável': 'Sim', 'Com aro para pés': 'Não', 'Com apoio de braços': 'Não', 'Com encosto reclinável': 'Não', 'Com rodas': 'Sim', 'Com luzes': 'Não', 'Com apoio de braços ajustável': 'Não', 'Com apoio de cabeça': 'Não', 'Com apoio de pés': 'Não', 'É gamer': 'Não', 'É ergonômica': 'Sim', 'É giratória': 'Sim', 'Tipo de apoio lombar': 'Fixo', 'Acabamento da estrutura': 'Cromado'}",
         "info_products_10_escritório.json",
         "False",
         null,
         null
        ],
        [
         "19",
         "MLB23369142",
         "Escrivaninha Mesa De Canto 3 Gavetas Lisboa Madesa Branca Cor Branco 693909",
         "{'Marca': 'Madesa', 'Modelo': '693909', 'Profundidade': '60 cm', 'Largura': '255 cm', 'Altura': '74 cm', 'Cor': 'Branco', 'Cor principal': 'Branco', 'Materiais da escrivaninha': 'MDP', 'Estilo': 'Moderno', 'Requer montagem': 'Sim', 'Com gavetas': 'Sim', 'Quantidade de gavetas': '3', 'Inclui estante para livros': 'Sim', 'É flutuante': 'Não', 'É em forma de L': 'Sim', 'É gamer': 'Não', 'Com luzes LED': 'Não', 'Inclui manual de instruções': 'Sim', 'Inclui kit de instalação': 'Sim', 'Material das corrediças': 'MDP'}",
         "info_products_10_escritório.json",
         "False",
         null,
         null
        ],
        [
         "20",
         "MLB36257257",
         "Conjunto Escritório Mesa E Armário Office Berlin - Vianossa Cor Preto/naturale",
         "{'Linha': 'Móveis para escritório', 'Modelo': 'Berlin', 'Marca': 'Vianossa', 'Cor': 'Preto/Naturale', 'Altura': '1.53 m', 'Largura': '48 cm', 'Profundidade': '38 cm', 'Quantidade de prateleiras': '2', 'Material': 'MDP', 'Quantidade de portas': '1', 'Requer montagem': 'Sim', 'Com rodas': 'Não', 'Com fechadura': 'Não'}",
         "info_products_10_escritório.json",
         "False",
         null,
         null
        ],
        [
         "21",
         "MLB32810690",
         "Papel Toalha Interfolha - 2.000 Folhas",
         "{'Marca': 'Interfolha', 'Modelo': 'Interfolha', 'Título manual': 'Papel Toalha Interfolha - 2.000 Folhas', 'Formato de venda': 'Unidade', 'Unidades por kit': '1'}",
         "info_products_10_escritório.json",
         "False",
         null,
         null
        ],
        [
         "22",
         "MLB25742022",
         "Mesa Escrivaninha Art Ii 4 Prateleiras Olmo/branco - Artany Cor Marrom",
         "{'Marca': 'Artany', 'Modelo': '006056', 'Cor': 'Marrom', 'Cor principal': 'Marrom', 'Requer montagem': 'Sim', 'É em forma de L': 'Não', 'É gamer': 'Não', 'Com luzes LED': 'Não', 'Peso': '29 kg', 'Com prateleiras': 'Sim'}",
         "info_products_10_escritório.json",
         "False",
         null,
         null
        ],
        [
         "23",
         "MLB29739624",
         "Cadeira de escritório Python Fly XHOCB07 ergonômica branca e cinza com estofado de malha",
         "{'Marca': 'Python Fly', 'Modelo': 'XHOCB07', 'Cor': 'Branco/Cinza', 'Material do estofamento': 'Malha', 'Formato de venda': 'Unidade', 'Unidades por kit': '1', 'Modelo detalhado': 'XHOCB07', 'Cor principal': 'Cinza', 'Cor filtrável': 'Cinza', 'Tipo de cadeira de escritório': 'Escritório', 'Materiais da estrutura': 'Plástico', 'Materiais do enchimento': 'Espuma', 'Materiais do aro para pés': 'plásticos, Náilon', 'Altura do encosto': '51 cm', 'Profundidade do assento': '49 cm', 'Largura da cadeira': '64 cm', 'Altura máxima da cadeira': '120 cm', 'Peso máximo suportado': '150 kg', 'Requer montagem': 'Sim', 'Com altura ajustável': 'Sim', 'Com aro para pés': 'Não', 'Com apoio de braços': 'Sim', 'Com encosto reclinável': 'Não', 'Com rodas': 'Sim', 'Com luzes': 'Não', 'Com apoio de braços ajustável': 'Sim', 'Com apoio de cabeça': 'Sim', 'Com apoio de pés': 'Não', 'É gamer': 'Não', 'É ergonômica': 'Sim', 'É giratória': 'Sim', 'Inclui manual de montagem': 'Sim', 'Tipo de apoio lombar': 'Dinâmico', 'Acabamento da estrutura': 'Cromado', 'Tipos de mecanismos de reclinação': 'Basculante', 'Faixa de inclinação do encosto': '90 ° x 130 °', 'Altura da cadeira': '119 cm', 'Profundidade da cadeira': '49 cm', 'Diâmetro da base': '65 cm', 'Peso da cadeira': '5.3 kg', 'Largura do assento': '53 cm', 'Largura do encosto': '50 cm', 'Altura mínima do chão ao assento': '38 cm', 'Altura máxima do chão ao assento\\r': '48 cm', 'Altura mínima da cadeira': '110 cm'}",
         "info_products_10_escritório.json",
         "False",
         null,
         null
        ],
        [
         "24",
         "MLB32418329",
         "Mesa P/ Escritório Diretor Estilo Industrial 120x60 Ajl Cor Preto",
         "{'Marca': 'AJL', 'Modelo': 'Mesa para computador', 'Profundidade': '60 cm', 'Largura': '120 cm', 'Altura': '75 cm', 'Cor': 'Preto', 'Cor principal': 'Preto', 'Materiais da escrivaninha': 'MDF, MDP', 'Requer montagem': 'Sim', 'Com gavetas': 'Não', 'É em forma de L': 'Não', 'É gamer': 'Não', 'Com luzes LED': 'Não', 'Inclui manual de instruções': 'Sim', 'Peso': '15 kg', 'Acabamentos': 'Pintura UV', 'Material das corrediças': 'Metal', 'Com prateleiras': 'Sim', 'Quantidade de prateleiras': '2', 'Com rodas': 'Não', 'Com bandeja móvel': 'Sim'}",
         "info_products_10_escritório.json",
         "False",
         null,
         null
        ],
        [
         "25",
         "MLB21905964",
         "Cadeira Caixa Alta Rodízio Urban Office Balcão Recepção Preta 1 unidade",
         "{'Marca': 'Urban Office', 'Modelo': 'Caixa Alta Rodízio', 'Cor': 'Preto', 'Material do estofamento': 'Espuma', 'Formato de venda': 'Unidade', 'Unidades por kit': '1', 'Modelo detalhado': 'Caixa Alta Rodízio Preto', 'Cor principal': 'Preto', 'Cor filtrável': 'Preto', 'Tipo de cadeira de escritório': 'Caixa', 'Materiais do enchimento': 'Espuma', 'Materiais do aro para pés': 'Metal', 'Altura do encosto': '53 cm', 'Profundidade do assento': '36 cm', 'Largura da cadeira': '26 cm', 'Altura máxima da cadeira': '75 cm', 'Peso máximo suportado': '110 kg', 'Requer montagem': 'Sim', 'Com altura ajustável': 'Sim', 'Com aro para pés': 'Sim', 'Com apoio de braços': 'Não', 'Com encosto reclinável': 'Não', 'Com rodas': 'Sim', 'Com luzes': 'Não', 'Com apoio de braços ajustável': 'Não', 'Com apoio de cabeça': 'Não', 'Com apoio de pés': 'Sim', 'É gamer': 'Não', 'É ergonômica': 'Não', 'É giratória': 'Sim', 'Inclui manual de montagem': 'Sim', 'Tipo de apoio lombar': 'Fixo', 'Altura mínima do chão ao assento': '62 cm', 'Altura máxima do chão ao assento\\r': '75 cm'}",
         "info_products_10_escritório.json",
         "False",
         null,
         null
        ],
        [
         "26",
         "MLB24144090",
         "Armário Aço Escritório Fechadura 4 Prateleiras Ea301 Cinza Cor Cinza Cristal",
         "{'Modelo': 'EA301', 'Marca': 'Elite Aço', 'Cor': 'Cinza Cristal', 'Altura': '1.98 m', 'Largura': '90 cm', 'Profundidade': '40 cm', 'Quantidade de prateleiras': '4', 'Material': 'Aço', 'Quantidade de portas': '2', 'Requer montagem': 'Sim', 'Com rodas': 'Não', 'Com fechadura': 'Sim'}",
         "info_products_10_escritório.json",
         "False",
         null,
         null
        ],
        [
         "27",
         "MLB47912202",
         "Lixeira Com Pedal Cozinha Banheiro Cesto Removível 3l Preto",
         "{'Título manual': 'Lixeira Com Pedal Cozinha Banheiro Cesto Removível 3l Preto', 'Marca': 'SRK', 'Modelo': 'Lixeira 3 Litros inox preta', 'Cor': 'Preto', 'Formato de venda': 'Unidade', 'Unidades por kit': '1', 'Capacidade em volume': '3 L', 'Materiais da estrutura': 'Aço inoxidável', 'Material da tampa': 'Inox', 'Tipos de aberturas': 'Pedal', 'Lugar de colocação': 'Escritório/Bancada/Cozinha', 'É de embutir': 'Não', 'Forma': 'Circular', 'Com bordas arredondadas': 'Sim', 'Com rodas': 'Não'}",
         "info_products_10_escritório.json",
         "False",
         null,
         null
        ],
        [
         "28",
         "MLB45509030",
         "Escrivaninha Mesa Escritório Dobrável Industrial Slim Notebook Romero",
         "{'Marca': 'Mimbral', 'Modelo': 'Escrivaninha dobravel', 'Comprimento': '8000 cm', 'Profundidade': '8 cm', 'Largura': '45 cm', 'Altura': '77 cm', 'Cor': 'Preto', 'Cor principal': 'Preto', 'Capacidade em peso': '100 kg', 'Materiais da escrivaninha': 'Aço, BP, MDP', 'Estilo': 'Clássico', 'Tempo de montagem': '1 m', 'Requer montagem': 'Não', 'Com gavetas': 'Não', 'Quantidade de gavetas': '0', 'Inclui estante para livros': 'Não', 'É flutuante': 'Não', 'É em forma de L': 'Não', 'É gamer': 'Não', 'Com luzes LED': 'Não', 'Inclui manual de instruções': 'Não', 'Inclui kit de instalação': 'Não', 'Peso': '2 kg', 'Acabamentos': 'Fosco', 'Material das corrediças': 'Aço', 'Com portas': 'Não', 'Quantidade de portas': '0', 'Com fechadura': 'Não', 'Inclui chaves': 'Não', 'Com prateleiras': 'Não', 'Quantidade de prateleiras': '0', 'Com prateleira para CPU': 'Não', 'Com rodas': 'Não', 'Quantidade de rodas': '0', 'Com módulo móvel': 'Não', 'Com altura ajustável': 'Não', 'Com ângulo ajustável': 'Não', 'É dobrável': 'Sim', 'Com portas USB': 'Não', 'Com tomadas': 'Não', 'Com passa-cabos': 'Não', 'Com bandeja móvel': 'Não'}",
         "info_products_10_escritório.json",
         "False",
         null,
         null
        ],
        [
         "29",
         "MLB24086665",
         "Kit 03 Pendentes Vegas Preto Fosco Com Cobre Linha Srp Estrutura Preto Fosco/Bronze",
         "{'Marca': 'Repuxo Inox', 'Modelo': 'Vegas / Bala', 'Unidades por kit': '3', 'Voltagem': '127/220V', 'Cor': 'Preto Fosco/Bronze', 'Cor principal': 'Preto', 'Potência': '40 W', 'Tipos de fontes de luz': 'Led ou eletrônica', 'Tipo de alimentação': 'Corrente elétrica', 'Formato da luminária': 'Pendente', 'Forma': 'Redonda', 'Lugares de montagem': 'Teto', 'Materiais': 'Alumínio', 'Ambientes': 'Interior, Sala, Cozinha, Área gourmet, Sala de jantar, Bares e escritórios.', 'Assistentes virtuais compatíveis': 'nãopossuiAssistentes virtuais compatíveis', 'Aplicações inteligentes compatíveis': 'nãopossuiAplicações inteligentes compatíveis', 'Capacidade de lâmpadas': '3', 'Inclui lâmpadas': 'Não', 'Inclui controle remoto': 'Não', 'É sem fio': 'Não', 'É autoadesiva': 'Não', 'Com botão de pressionar': 'Não', 'Com Wi-Fi': 'Não', 'Direção da luz': 'Unidirecional', 'É pendente': 'Sim', 'Comprimento': '1 m', 'Largura': '15.5 cm', 'Altura': '18 cm', 'Tipo de soquete da lâmpada': 'E27'}",
         "info_products_10_escritório.json",
         "False",
         null,
         null
        ],
        [
         "30",
         "MLB44079111",
         "Mesa De Canto Em L Cor Preto Para Escritório Ou Home Office - Design Contemporâneo Com Amplo Espaço De Trabalho",
         "{'Marca': 'Sofa Sogude', 'Modelo': 'MesaL2586', 'Comprimento': '150 cm', 'Profundidade': '45 cm', 'Largura': '150 cm', 'Altura': '74.5 cm', 'Cor': 'Preto', 'Materiais da escrivaninha': 'MDP, METALON, Madeira', 'Estilo': 'Industrial', 'Requer montagem': 'Sim', 'É em forma de L': 'Sim', 'Inclui manual de instruções': 'Sim', 'Inclui kit de instalação': 'Sim'}",
         "info_products_10_escritório.json",
         "False",
         null,
         null
        ],
        [
         "31",
         "MLB18621026",
         "Cadeira de escritório Travel Max Diretor MB-4005 preta com estofado de tecido",
         "{'Marca': 'Travel Max', 'Linha': 'Gerencial', 'Modelo': 'Diretor', 'Modelo alfanumérico': 'MB-4005', 'Cor': 'Preto', 'Material do estofamento': 'Tecido', 'Formato de venda': 'Unidade', 'Unidades por kit': '1', 'Cor principal': 'Preto', 'Tipo de cadeira de escritório': 'Escritório', 'Materiais da estrutura': 'Aço, Policarbonato', 'Materiais do enchimento': 'Espuma', 'Altura do encosto': '50 cm', 'Profundidade do assento': '45 cm', 'Largura da cadeira': '56 cm', 'Altura máxima da cadeira': '97 cm', 'Peso máximo suportado': '120 kg', 'Requer montagem': 'Sim', 'Com altura ajustável': 'Sim', 'Com aro para pés': 'Não', 'Com apoio de braços': 'Sim', 'Com encosto reclinável': 'Não', 'Com rodas': 'Sim', 'Com apoio de cabeça': 'Não', 'Com apoio de pés': 'Não', 'É gamer': 'Não', 'É ergonômica': 'Não', 'É giratória': 'Sim', 'Tipo de apoio lombar': 'Fixo', 'Acabamento da estrutura': 'Cromado', 'Tipos de mecanismos de reclinação': 'Basculante', 'Profundidade da cadeira': '60 cm', 'Peso da cadeira': '7.5 kg', 'Altura mínima da cadeira': '87 cm'}",
         "info_products_10_escritório.json",
         "False",
         null,
         null
        ],
        [
         "32",
         "MLB46087225",
         "Mesa Escrivaninha Giratoria Com Armário Gamer Em Madeira 3 Gavetas Cor Preto Casa Lustre",
         "{'Marca': 'Maciel Moveis', 'Modelo': 'Cômoda Mesa Estudo Quarto', 'Comprimento': '129 cm', 'Profundidade': '75.6 cm', 'Largura': '129 cm', 'Altura': '76 cm', 'Cor': 'Preto', 'Cor principal': 'Preto', 'Materiais da escrivaninha': 'MDP', 'Requer montagem': 'Sim', 'Com gavetas': 'Sim', 'Quantidade de gavetas': '3', 'Inclui estante para livros': 'Sim', 'É flutuante': 'Não', 'É em forma de L': 'Não', 'É gamer': 'Sim', 'Com luzes LED': 'Sim', 'Inclui manual de instruções': 'Sim', 'Inclui kit de instalação': 'Sim', 'Acabamentos': 'Laqueado', 'Com portas': 'Não', 'Com fechadura': 'Não', 'Inclui chaves': 'Não', 'Com prateleiras': 'Sim', 'Quantidade de prateleiras': '3', 'Com prateleira para CPU': 'Não', 'Com rodas': 'Não', 'Com módulo móvel': 'Sim', 'Com altura ajustável': 'Não', 'Com ângulo ajustável': 'Sim', 'É dobrável': 'Não', 'Com portas USB': 'Não', 'Com tomadas': 'Não', 'Com passa-cabos': 'Não', 'Com bandeja móvel': 'Não'}",
         "info_products_10_escritório.json",
         "False",
         null,
         null
        ],
        [
         "33",
         "MLB44350555",
         "Mini Aspirador De Mesa Pó Limpador Design Portatil Escritori",
         "{'Marca': 'VF599', 'Modelo': 'VF599', 'Tipo de limpa migalhas': 'Escova', 'Cor': 'Branco', 'Nome do desenho': 'Lisa', 'Material': 'Plástico', 'Tipo de alimentação': 'Pilha', 'Tamanho da pilha': 'AA', 'Acessórios incluídos': 'Fio USB, Pilha', 'Usos recomendados': 'Mesa, Teclado'}",
         "info_products_10_escritório.json",
         "False",
         null,
         null
        ],
        [
         "34",
         "MLB14558865",
         "Escrivaninha Valdemóveis Mesa com armário 1 porta mdf de 130cm x 136cm x 44cm branco Fosco",
         "{'Marca': 'Valdemóveis', 'Modelo': 'Mesa com armário 1 porta', 'Profundidade': '44 cm', 'Largura': '130 cm', 'Altura': '136 cm', 'Cor': 'Branco', 'Cor principal': 'Branco', 'Materiais da escrivaninha': 'MDF, MDP', 'Requer montagem': 'Sim', 'Com gavetas': 'Sim', 'Quantidade de gavetas': '1', 'É em forma de L': 'Não', 'Inclui manual de instruções': 'Sim', 'Peso': '41.6 kg', 'Acabamentos': 'Fosco, Pintura UV', 'Material das corrediças': 'Metal', 'Com portas': 'Sim', 'Quantidade de portas': '1', 'Com prateleiras': 'Sim', 'Quantidade de prateleiras': '5', 'Com prateleira para CPU': 'Sim', 'É dobrável': 'Não', 'Com bandeja móvel': 'Sim', 'MPN': 'MKP000824003211'}",
         "info_products_10_escritório.json",
         "False",
         null,
         null
        ],
        [
         "35",
         "MLB47170672",
         "Tapete 2,00x1,50 Peludo Felpudo Sala E Quarto Cores Cor Marrom Mesclado Desenho Do Tecido Pelo Alto",
         "{'Marca': 'Casa Laura Enxovais', 'Modelo': 'Tapete Médio Para Sala', 'Comprimento': '2 m', 'Largura': '1.4 m', 'Desenho do tecido': 'Pelo Alto', 'Cor': 'Marrom mesclado', 'Cor principal': 'Marrom-claro', 'Estilo do tapete': 'Felpudo', 'Materiais': 'Poliéster', 'Ambientes recomendados': 'Escritorio, Quarto, Sala, Sala de estar', 'É sanitizante': 'Não', 'É artesanal': 'Não', 'É produto personalizável': 'Não', 'Tipo de cabelo': 'Longo', 'Comprimento do cabelo': '3 cm', 'É anti-alergico': 'Não', 'É antiderrapante': 'Sim', 'É lavável': 'Sim', 'É adequado para máquina de lavar roupa': 'Não'}",
         "info_products_10_escritório.json",
         "False",
         null,
         null
        ],
        [
         "36",
         "MLB47170672",
         "Tapete 2,00x1,50 Peludo Felpudo Sala E Quarto Cores Cor Marrom Mesclado Desenho Do Tecido Pelo Alto",
         "{'Marca': 'Casa Laura Enxovais', 'Modelo': 'Tapete Médio Para Sala', 'Comprimento': '2 m', 'Largura': '1.4 m', 'Desenho do tecido': 'Pelo Alto', 'Cor': 'Marrom mesclado', 'Cor principal': 'Marrom-claro', 'Estilo do tapete': 'Felpudo', 'Materiais': 'Poliéster', 'Ambientes recomendados': 'Escritorio, Quarto, Sala, Sala de estar', 'É sanitizante': 'Não', 'É artesanal': 'Não', 'É produto personalizável': 'Não', 'Tipo de cabelo': 'Longo', 'Comprimento do cabelo': '3 cm', 'É anti-alergico': 'Não', 'É antiderrapante': 'Sim', 'É lavável': 'Sim', 'É adequado para máquina de lavar roupa': 'Não'}",
         "info_products_10_escritório.json",
         "False",
         null,
         null
        ],
        [
         "37",
         "MLB28558164",
         "Kit Porta Objetos organizador escritório Com 3 Unidades",
         "{'Marca': 'Dello', 'Modelo': '6413.P.0008', 'Tipo de produto': 'Porta-lápis', 'Formato de venda': 'Unidade', 'Unidades por kit': '1', 'Cor': 'Preto', 'Altura': '9.7 cm', 'Comprimento': '7.6 cm', 'Largura': '8 cm', 'Peso': '200 g', 'Materiais': 'Poliestireno', 'Quantidade de compartimentos': '1', 'Com suporte para celular': 'Não', 'É giratório': 'Não', 'É desmontável': 'Não'}",
         "info_products_10_escritório.json",
         "False",
         null,
         null
        ],
        [
         "38",
         "MLB29038291",
         "Lustre Pendente Moderno Anéis 5 Arcos Pe Direito Duplo Alto Cor Preto 110V/220V",
         "{'Marca': 'Nitrolux', 'Modelo': 'LP-405', 'Unidades por kit': '1', 'Cor': 'Preto', 'Cor da luz': 'Branco-neutro', 'Temperatura de cor': '4000 K', 'Cor principal': 'Dourado', 'Potência': '132 W', 'Tipos de fontes de luz': 'LED', 'Tipo de alimentação': 'Corrente elétrica', 'Voltagem da bateria': '3.2V', 'Formato da luminária': 'Lustre', 'Forma': 'Redonda', 'Lugares de montagem': 'Teto', 'Materiais': 'Alumínio', 'Ambientes': 'Cozinhas, Escritórios, Quartos, Salas, Interior', 'Assistentes virtuais compatíveis': 'Alexa', 'Aplicações inteligentes compatíveis': 'Google Home', 'Eficiência energética': 'A+', 'Capacidade de lâmpadas': '1', 'Inclui lâmpadas': 'Sim', 'Inclui controle remoto': 'Não', 'É sem fio': 'Não', 'É autoadesiva': 'Não', 'Com botão de pressionar': 'Não', 'Com Wi-Fi': 'Não', 'Fabricante': 'Nitrolux', 'Modelo alfanumérico': 'LP-405P', 'Direção da luz': 'Unidirecional', 'É pendente': 'Sim', 'Comprimento': '1 m', 'Largura': '1 m', 'Altura': '4 m', 'Tipo de soquete da lâmpada': 'E14'}",
         "info_products_10_escritório.json",
         "False",
         null,
         null
        ],
        [
         "39",
         "MLB35702829",
         "Gaveteiro Escritório 4 Gavetas Com Rodízios Kit 2 Gávea Cor Preto",
         "{'Linha': 'Escritório', 'Modelo': 'Gávea', 'Marca': 'Móveis Leão', 'Cor': 'Preto', 'Altura': '67 cm', 'Largura': '36 cm', 'Profundidade': '36 cm', 'Quantidade de gavetas': '4', 'Material': 'MDP', 'Requer montagem': 'Sim', 'Com rodas': 'Sim', 'Com fechadura': 'Sim'}",
         "info_products_10_escritório.json",
         "False",
         null,
         null
        ],
        [
         "40",
         "MLB23487543",
         "Mesa Gamer 2 Prateleiras Preto Fosco 3875 Qmovi Escrivaninha gamer",
         "{'Marca': 'Qmovi', 'Modelo': 'Escrivaninha gamer', 'Comprimento': '114 cm', 'Profundidade': '54 cm', 'Largura': '114 cm', 'Altura': '74.5 cm', 'Cor': 'Preto', 'Cor principal': 'Preto', 'Materiais da escrivaninha': 'MDP, Madeira', 'Requer montagem': 'Sim', 'Com gavetas': 'Não', 'Quantidade de gavetas': '0', 'Inclui estante para livros': 'Não', 'É flutuante': 'Não', 'É em forma de L': 'Não', 'É gamer': 'Sim', 'Com luzes LED': 'Não', 'Inclui manual de instruções': 'Sim', 'Inclui kit de instalação': 'Não', 'Peso': '20.3 kg', 'Acabamentos': 'Laqueado', 'Com portas': 'Não', 'Com fechadura': 'Não', 'Inclui chaves': 'Não', 'Com prateleiras': 'Sim', 'Quantidade de prateleiras': '2', 'Com prateleira para CPU': 'Sim', 'Com rodas': 'Não', 'Com módulo móvel': 'Não', 'Com altura ajustável': 'Não', 'Com ângulo ajustável': 'Não', 'É dobrável': 'Não', 'Com portas USB': 'Não', 'Com tomadas': 'Não', 'Com passa-cabos': 'Sim', 'Com bandeja móvel': 'Não'}",
         "info_products_10_escritório.json",
         "False",
         null,
         null
        ],
        [
         "41",
         "MLB45881892",
         "Kit Escrivaninha Infantil Com Gaveta + Armário De Livros Com Rodinhas Móveis Bonatto",
         "{'Marca': 'Móveis Bonatto', 'Modelo': 'Conjunto Quarto', 'Comprimento': '70 cm', 'Profundidade': '40 cm', 'Largura': '70 cm', 'Altura': '78 cm', 'Cor': 'Preto', 'Cor principal': 'Preto', 'Capacidade em peso': '20 kg', 'Materiais da escrivaninha': 'Madeira', 'Estilo': 'Moderno', 'Tempo de montagem': '20 m', 'Requer montagem': 'Sim', 'Quantidade de gavetas': '1', 'Inclui estante para livros': 'Sim', 'É flutuante': 'Não', 'É em forma de L': 'Não', 'É gamer': 'Sim', 'Com luzes LED': 'Não', 'Inclui manual de instruções': 'Sim', 'Inclui kit de instalação': 'Sim', 'Peso': '6 kg', 'Acabamentos': 'Semi - Brilho', 'Material das corrediças': 'Aço', 'Com portas': 'Não', 'Com fechadura': 'Não', 'Inclui chaves': 'Não', 'Com prateleiras': 'Sim', 'Quantidade de prateleiras': '4', 'Com prateleira para CPU': 'Não', 'Com rodas': 'Sim', 'Quantidade de rodas': '4', 'Com módulo móvel': 'Sim', 'Com altura ajustável': 'Não', 'Com ângulo ajustável': 'Não', 'É dobrável': 'Não', 'Com portas USB': 'Não', 'Com tomadas': 'Não', 'Com passa-cabos': 'Não', 'Com bandeja móvel': 'Não'}",
         "info_products_10_escritório.json",
         "False",
         null,
         null
        ],
        [
         "42",
         "MLB22688140",
         "Etiqueta Impressora A4 31 X 17mm 100 Fls Ca4348 Colacril Cor Branco",
         "{'Marca': 'Geral', 'Tamanho do papel': 'A4', 'Tipo de papel': 'Etiqueta', 'Formato de venda': 'Unidade', 'Unidades por kit': '1', 'Peso': '800 g', 'É resma': 'Sim', 'É adesivo': 'Sim', 'Acabamento': 'Acetinado'}",
         "info_products_10_escritório.json",
         "False",
         null,
         null
        ],
        [
         "43",
         "MLB29613969",
         "Cadeira de escritório Python Fly X11 gamer ergonômica preta com estofado de malha",
         "{'Marca': 'Python Fly', 'Modelo': 'X11', 'Cor': 'Preto', 'Material do estofamento': 'Malha', 'Unidades por kit': '1', 'Modelo detalhado': 'Cadeira OFFICE Mesh Chair', 'Cor principal': 'Preto', 'Cor filtrável': 'Preto', 'Tipo de cadeira de escritório': 'Escritório', 'Materiais da estrutura': 'Aço', 'Materiais do enchimento': 'Esponja', 'Materiais do aro para pés': 'Liga metálica', 'Altura do encosto': '58 cm', 'Profundidade do assento': '52 cm', 'Largura da cadeira': '65 cm', 'Altura máxima da cadeira': '129 cm', 'Peso máximo suportado': '120 kg', 'Requer montagem': 'Sim', 'Com altura ajustável': 'Sim', 'Com aro para pés': 'Não', 'Com apoio de braços': 'Sim', 'Com encosto reclinável': 'Não', 'Com rodas': 'Sim', 'Com luzes': 'Não', 'Com apoio de braços ajustável': 'Sim', 'Com apoio de cabeça': 'Sim', 'Com apoio de pés': 'Não', 'É gamer': 'Sim', 'É ergonômica': 'Sim', 'É giratória': 'Sim', 'Inclui manual de montagem': 'Sim', 'Tipo de apoio lombar': 'Regulável', 'Acabamento da estrutura': 'Cromado', 'Tipos de mecanismos de reclinação': 'Basculante, Encosto reclinável', 'Faixa de inclinação do encosto': '90 ° x 125 °', 'Altura da cadeira': '128 cm', 'Profundidade da cadeira': '50 cm', 'Diâmetro da base': '62 cm', 'Peso da cadeira': '11 kg', 'Largura do assento': '52 cm', 'Largura do encosto': '50 cm', 'Altura mínima do chão ao assento': '48 cm', 'Altura máxima do chão ao assento\\r': '58 cm', 'Altura mínima da cadeira': '119 cm'}",
         "info_products_10_escritório.json",
         "False",
         null,
         null
        ],
        [
         "44",
         "MLB30481557",
         "Passadeira Sisal Antiderrapante 2,30x0,66 Tapete Lancer Cor Cinza Desenho do tecido Sisal IGUAL A FOTO",
         "{'Marca': 'Lancer', 'Modelo': 'Passadeira antideslizante', 'Comprimento': '230 m', 'Largura': '66 cm', 'Desenho do tecido': 'Sisal IGUAL A FOTO', 'Cor': 'Cinza', 'Cor principal': 'Multicolorido', 'Estilo do tapete': 'Passadeira', 'Materiais': 'Polipropileno, Poliéster', 'Ambientes recomendados': 'Corredor, Cozinha, Escritorio, Quarto', 'É sanitizante': 'Não', 'É artesanal': 'Não', 'É produto personalizável': 'Não', 'É anti-alergico': 'Sim', 'É antiderrapante': 'Sim', 'É lavável': 'Sim', 'É adequado para máquina de lavar roupa': 'Não'}",
         "info_products_10_escritório.json",
         "False",
         null,
         null
        ],
        [
         "45",
         "MLB33393668",
         "Mesa Para Escritório 180cm Me4185 Wt",
         "{'Marca': 'Tecno Mobili', 'Modelo': 'ME4118', 'Profundidade': '60 cm', 'Largura': '180 cm', 'Altura': '74 cm', 'Cor': 'Branco', 'Capacidade em peso': '25 kg', 'Materiais da escrivaninha': 'MDP, MDF', 'Estilo': 'Moderno', 'Tempo de montagem': '1 h', 'Requer montagem': 'Sim', 'Com gavetas': 'Sim', 'Quantidade de gavetas': '2', 'Inclui estante para livros': 'Não', 'É flutuante': 'Não', 'É em forma de L': 'Não', 'É gamer': 'Não', 'Com luzes LED': 'Não', 'Inclui manual de instruções': 'Sim', 'Inclui kit de instalação': 'Sim', 'Peso': '25.65 kg', 'Acabamentos': 'Fosco', 'Material das corrediças': 'MDP', 'Com portas': 'Não', 'Com fechadura': 'Sim', 'Inclui chaves': 'Sim', 'Com prateleiras': 'Não', 'Com prateleira para CPU': 'Não', 'Com rodas': 'Não', 'Com módulo móvel': 'Não', 'Com altura ajustável': 'Não', 'Com ângulo ajustável': 'Não', 'É dobrável': 'Não', 'Com portas USB': 'Não', 'Com tomadas': 'Não', 'Com passa-cabos': 'Não', 'Com bandeja móvel': 'Não'}",
         "info_products_10_escritório.json",
         "False",
         null,
         null
        ],
        [
         "46",
         "MLB47047974",
         "Cadeira De Escritório Giratória Com Altura Ajustável Cor Preto Material Do Estofamento Algodão",
         "{'Marca': 'Senhor da Net', 'Modelo': 'Modelo Desconhecido', 'Cor': 'Preto', 'Material do estofamento': 'Algodão', 'Formato de venda': 'Unidade', 'Unidades por kit': '1', 'Modelo detalhado': 'Ascend', 'Cor principal': 'Preto', 'Tipo de cadeira de escritório': 'Escritório', 'Materiais da estrutura': 'Metal, Plástico', 'Materiais do enchimento': 'Espuma', 'Materiais do aro para pés': 'Metal', 'Altura do encosto': '46 cm', 'Profundidade do assento': '45 cm', 'Largura da cadeira': '52 cm', 'Altura máxima da cadeira': '95 cm', 'Peso máximo suportado': '120 kg', 'Requer montagem': 'Sim', 'Com altura ajustável': 'Sim', 'Com aro para pés': 'Não', 'Com apoio de braços': 'Sim', 'Com encosto reclinável': 'Não', 'Com rodas': 'Sim', 'Com apoio de braços ajustável': 'Não', 'Com apoio de pés': 'Não', 'É gamer': 'Não', 'É ergonômica': 'Sim', 'É giratória': 'Sim', 'Inclui manual de montagem': 'Sim', 'Tipo de apoio lombar': 'Fixo', 'Acabamento da estrutura': 'Cromado'}",
         "info_products_10_escritório.json",
         "False",
         null,
         null
        ],
        [
         "47",
         "MLB36506613",
         "Conjunto Escritório Buffet E Armário Berlin - Vianossa Cor Preto/Naturale",
         "{'Linha': 'Móveis para escritório', 'Modelo': 'Berlin', 'Marca': 'Vianossa', 'Cor': 'Preto/Naturale', 'Altura': '74.5 cm', 'Largura': '1.355 m', 'Profundidade': '38 cm', 'Quantidade de prateleiras': '3', 'Material': 'MDP', 'Quantidade de portas': '3', 'Requer montagem': 'Sim', 'Com rodas': 'Não', 'Com fechadura': 'Não'}",
         "info_products_10_escritório.json",
         "False",
         null,
         null
        ],
        [
         "48",
         "MLB24128694",
         "Armário Escritório 2 Portas Kappesberg Carvalho Munique F210",
         "{'Linha': 'frame', 'Modelo': 'F210', 'Marca': 'Kappesberg', 'Cor': 'Munique', 'Altura': '1.6 m', 'Largura': '91 cm', 'Profundidade': '45 cm', 'Quantidade de prateleiras': '3', 'Material': 'MDP BP', 'Quantidade de portas': '2', 'Requer montagem': 'Sim', 'Com rodas': 'Não', 'Com fechadura': 'Sim'}",
         "info_products_10_escritório.json",
         "False",
         null,
         null
        ],
        [
         "49",
         "MLB40501475",
         "Escrivaninha MS Maciel & Signorini Mesa Com Prateleira Para Quarto Escritorio em Estilo Industrial Cor Cobre Preto",
         "{'Marca': 'MS Maciel & Signorini', 'Modelo': 'Quarto', 'Profundidade': '45 cm', 'Largura': '120 cm', 'Altura': '74 cm', 'Cor': 'Cobre preto', 'Materiais da escrivaninha': 'Aço, MDP', 'Estilo': 'Industrial', 'Requer montagem': 'Sim', 'Com gavetas': 'Não', 'Inclui estante para livros': 'Sim', 'É flutuante': 'Não', 'É em forma de L': 'Não', 'É gamer': 'Não', 'Com luzes LED': 'Não', 'Inclui manual de instruções': 'Sim', 'Com rodas': 'Não', 'É dobrável': 'Não', 'Com tomadas': 'Não'}",
         "info_products_10_escritório.json",
         "False",
         null,
         null
        ]
       ],
       "shape": {
        "columns": 7,
        "rows": 13686
       }
      },
      "text/html": [
       "<div>\n",
       "<style scoped>\n",
       "    .dataframe tbody tr th:only-of-type {\n",
       "        vertical-align: middle;\n",
       "    }\n",
       "\n",
       "    .dataframe tbody tr th {\n",
       "        vertical-align: top;\n",
       "    }\n",
       "\n",
       "    .dataframe thead th {\n",
       "        text-align: right;\n",
       "    }\n",
       "</style>\n",
       "<table border=\"1\" class=\"dataframe\">\n",
       "  <thead>\n",
       "    <tr style=\"text-align: right;\">\n",
       "      <th></th>\n",
       "      <th>PRODUCT_ID</th>\n",
       "      <th>TITLE</th>\n",
       "      <th>ATTRIBUTES</th>\n",
       "      <th>SOURCE_FILE</th>\n",
       "      <th>IS_HAZMAT</th>\n",
       "      <th>REASON</th>\n",
       "      <th>CONFIDENCE</th>\n",
       "    </tr>\n",
       "  </thead>\n",
       "  <tbody>\n",
       "    <tr>\n",
       "      <th>0</th>\n",
       "      <td>MLB29523289</td>\n",
       "      <td>Base Estrela Secretaria Em Aço C/ Rodízios E C...</td>\n",
       "      <td>{'Marca': 'cadeira giratória diretora', 'Fabri...</td>\n",
       "      <td>info_products_10_escritório.json</td>\n",
       "      <td>False</td>\n",
       "      <td>NaN</td>\n",
       "      <td>NaN</td>\n",
       "    </tr>\n",
       "    <tr>\n",
       "      <th>1</th>\n",
       "      <td>MLB34230359</td>\n",
       "      <td>Escrivaninha Office Nt2105 Notável Móveis Cor ...</td>\n",
       "      <td>{'Marca': 'Notável Móveis', 'Modelo': 'NT2105'...</td>\n",
       "      <td>info_products_10_escritório.json</td>\n",
       "      <td>False</td>\n",
       "      <td>NaN</td>\n",
       "      <td>NaN</td>\n",
       "    </tr>\n",
       "    <tr>\n",
       "      <th>2</th>\n",
       "      <td>MLB15904595</td>\n",
       "      <td>Cadeira de Escritório Mymax Gamer MX5 Cor Preto</td>\n",
       "      <td>{'Marca': 'Mymax', 'Linha': 'Gamer', 'Modelo':...</td>\n",
       "      <td>info_products_10_escritório.json</td>\n",
       "      <td>False</td>\n",
       "      <td>NaN</td>\n",
       "      <td>NaN</td>\n",
       "    </tr>\n",
       "    <tr>\n",
       "      <th>3</th>\n",
       "      <td>MLB26801865</td>\n",
       "      <td>Marmita Dupla Camada Á Prova De Vazamento Imed...</td>\n",
       "      <td>{'Marca': 'Marmita,Lancheira,Escritorio', 'Mod...</td>\n",
       "      <td>info_products_10_escritório.json</td>\n",
       "      <td>False</td>\n",
       "      <td>NaN</td>\n",
       "      <td>NaN</td>\n",
       "    </tr>\n",
       "    <tr>\n",
       "      <th>4</th>\n",
       "      <td>MLB22522670</td>\n",
       "      <td>Cadeira de escritório TGTTGT-OFC-001 TGT ergon...</td>\n",
       "      <td>{'Marca': 'TGT', 'Linha': 'cadeira fixa escrit...</td>\n",
       "      <td>info_products_10_escritório.json</td>\n",
       "      <td>False</td>\n",
       "      <td>NaN</td>\n",
       "      <td>NaN</td>\n",
       "    </tr>\n",
       "    <tr>\n",
       "      <th>...</th>\n",
       "      <td>...</td>\n",
       "      <td>...</td>\n",
       "      <td>...</td>\n",
       "      <td>...</td>\n",
       "      <td>...</td>\n",
       "      <td>...</td>\n",
       "      <td>...</td>\n",
       "    </tr>\n",
       "    <tr>\n",
       "      <th>13681</th>\n",
       "      <td>MLB23573140</td>\n",
       "      <td>Jd Móveis eccos+genova gabinete para pia e esp...</td>\n",
       "      <td>{'Marca': 'Jd Móveis', 'Linha': 'Banheiro', 'M...</td>\n",
       "      <td>info_products_9_banheiro.json</td>\n",
       "      <td>False</td>\n",
       "      <td>NaN</td>\n",
       "      <td>NaN</td>\n",
       "    </tr>\n",
       "    <tr>\n",
       "      <th>13682</th>\n",
       "      <td>MLB26685521</td>\n",
       "      <td>Prateleira Docol Square Níquel Escovado 388244</td>\n",
       "      <td>{'Marca': 'Docol', 'Linha': 'Square', 'Modelo'...</td>\n",
       "      <td>info_products_9_banheiro.json</td>\n",
       "      <td>False</td>\n",
       "      <td>NaN</td>\n",
       "      <td>NaN</td>\n",
       "    </tr>\n",
       "    <tr>\n",
       "      <th>13683</th>\n",
       "      <td>MLB21906090</td>\n",
       "      <td>Gabinete Armário Banheiro C/ Rodízios Branco E...</td>\n",
       "      <td>{'Marca': 'Tema', 'Modelo': 'Tekim', 'Cor do m...</td>\n",
       "      <td>info_products_9_banheiro.json</td>\n",
       "      <td>False</td>\n",
       "      <td>NaN</td>\n",
       "      <td>NaN</td>\n",
       "    </tr>\n",
       "    <tr>\n",
       "      <th>13684</th>\n",
       "      <td>MLB38278657</td>\n",
       "      <td>Suporte Duplo De Canto P/ Banheiro Aço Inox Re...</td>\n",
       "      <td>{'Marca': 'EmbralumiEmbralumi', 'Linha': 'Prem...</td>\n",
       "      <td>info_products_9_banheiro.json</td>\n",
       "      <td>False</td>\n",
       "      <td>NaN</td>\n",
       "      <td>NaN</td>\n",
       "    </tr>\n",
       "    <tr>\n",
       "      <th>13685</th>\n",
       "      <td>MLB41152149</td>\n",
       "      <td>Espelheira Com Nicho Em Vidro 3mm Genova Becha...</td>\n",
       "      <td>{'Marca': 'Jd Móveis', 'Linha': 'Banheiro', 'M...</td>\n",
       "      <td>info_products_9_banheiro.json</td>\n",
       "      <td>False</td>\n",
       "      <td>NaN</td>\n",
       "      <td>NaN</td>\n",
       "    </tr>\n",
       "  </tbody>\n",
       "</table>\n",
       "<p>13686 rows × 7 columns</p>\n",
       "</div>"
      ],
      "text/plain": [
       "        PRODUCT_ID                                              TITLE  \\\n",
       "0      MLB29523289  Base Estrela Secretaria Em Aço C/ Rodízios E C...   \n",
       "1      MLB34230359  Escrivaninha Office Nt2105 Notável Móveis Cor ...   \n",
       "2      MLB15904595    Cadeira de Escritório Mymax Gamer MX5 Cor Preto   \n",
       "3      MLB26801865  Marmita Dupla Camada Á Prova De Vazamento Imed...   \n",
       "4      MLB22522670  Cadeira de escritório TGTTGT-OFC-001 TGT ergon...   \n",
       "...            ...                                                ...   \n",
       "13681  MLB23573140  Jd Móveis eccos+genova gabinete para pia e esp...   \n",
       "13682  MLB26685521     Prateleira Docol Square Níquel Escovado 388244   \n",
       "13683  MLB21906090  Gabinete Armário Banheiro C/ Rodízios Branco E...   \n",
       "13684  MLB38278657  Suporte Duplo De Canto P/ Banheiro Aço Inox Re...   \n",
       "13685  MLB41152149  Espelheira Com Nicho Em Vidro 3mm Genova Becha...   \n",
       "\n",
       "                                              ATTRIBUTES  \\\n",
       "0      {'Marca': 'cadeira giratória diretora', 'Fabri...   \n",
       "1      {'Marca': 'Notável Móveis', 'Modelo': 'NT2105'...   \n",
       "2      {'Marca': 'Mymax', 'Linha': 'Gamer', 'Modelo':...   \n",
       "3      {'Marca': 'Marmita,Lancheira,Escritorio', 'Mod...   \n",
       "4      {'Marca': 'TGT', 'Linha': 'cadeira fixa escrit...   \n",
       "...                                                  ...   \n",
       "13681  {'Marca': 'Jd Móveis', 'Linha': 'Banheiro', 'M...   \n",
       "13682  {'Marca': 'Docol', 'Linha': 'Square', 'Modelo'...   \n",
       "13683  {'Marca': 'Tema', 'Modelo': 'Tekim', 'Cor do m...   \n",
       "13684  {'Marca': 'EmbralumiEmbralumi', 'Linha': 'Prem...   \n",
       "13685  {'Marca': 'Jd Móveis', 'Linha': 'Banheiro', 'M...   \n",
       "\n",
       "                            SOURCE_FILE  IS_HAZMAT REASON CONFIDENCE  \n",
       "0      info_products_10_escritório.json      False    NaN        NaN  \n",
       "1      info_products_10_escritório.json      False    NaN        NaN  \n",
       "2      info_products_10_escritório.json      False    NaN        NaN  \n",
       "3      info_products_10_escritório.json      False    NaN        NaN  \n",
       "4      info_products_10_escritório.json      False    NaN        NaN  \n",
       "...                                 ...        ...    ...        ...  \n",
       "13681     info_products_9_banheiro.json      False    NaN        NaN  \n",
       "13682     info_products_9_banheiro.json      False    NaN        NaN  \n",
       "13683     info_products_9_banheiro.json      False    NaN        NaN  \n",
       "13684     info_products_9_banheiro.json      False    NaN        NaN  \n",
       "13685     info_products_9_banheiro.json      False    NaN        NaN  \n",
       "\n",
       "[13686 rows x 7 columns]"
      ]
     },
     "execution_count": 7,
     "metadata": {},
     "output_type": "execute_result"
    }
   ],
   "source": [
    "products_df"
   ]
  },
  {
   "cell_type": "code",
   "execution_count": null,
   "id": "737f8c2a",
   "metadata": {},
   "outputs": [
    {
     "data": {
      "text/plain": [
       "[]"
      ]
     },
     "execution_count": 10,
     "metadata": {},
     "output_type": "execute_result"
    }
   ],
   "source": []
  }
 ],
 "metadata": {
  "language_info": {
   "name": "python"
  }
 },
 "nbformat": 4,
 "nbformat_minor": 5
}
