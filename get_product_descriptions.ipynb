{
 "cells": [
  {
   "cell_type": "markdown",
   "metadata": {},
   "source": [
    "# Introdução\n",
    "\n",
    "Segundo o site https://developers.mercadolivre.com.br/pt_br/boas-praticas-para-usar-a-plataforma, é recomendado utilizar a API do Mercado Livre em vez de fazer web crawling, portanto foi o caminho escolhido para coletar informações de produtos.\n",
    "\n",
    "Para funcionar as chamadas, é preciso criar uma conta em developers.mercadolivre.com.br, criar um aplicativo, e conseguir um token de acesso. Esse token deve ser colocar no arquivo .env na variável \"ML_ACCESS_TOKEN\". Para criar sua aplicação, siga o processo descrito em https://developers.mercadolivre.com.br/pt_br/crie-uma-aplicacao-no-mercado-livre. Após isso, usar o seguinte link pra obter o token de acesso, siga o vídeo https://www.youtube.com/watch?v=T2Q_CE8vqYM&t=53s, cuja explicação está detalhada em https://developers.mercadolivre.com.br/pt_br/autenticacao-e-autorizacao.\n",
    "\n",
    "IDs de categorias obtidas no site de documentação da API do Mercado Livre:"
   ]
  },
  {
   "cell_type": "code",
   "execution_count": 1,
   "metadata": {},
   "outputs": [],
   "source": [
    "import pandas as pd\n",
    "import requests\n",
    "import os\n",
    "from dotenv import load_dotenv\n",
    "\n",
    "load_dotenv()\n",
    "\n",
    "ML_APP_REDIRECT_URI = os.getenv(\"ML_APP_REDIRECT_URI\")\n",
    "ML_APP_ID = os.getenv(\"ML_APP_ID\")\n",
    "# url = f\"https://auth.mercadolivre.com.br/authorization?response_type=code&client_id={ML_APP_ID}&redirect_uri={ML_APP_REDIRECT_URI}\"\n",
    "# resp = requests.get(url)\n",
    "\n",
    "# Forma ideal: Obter token de acesso automaticamente (TO-DO)"
   ]
  },
  {
   "cell_type": "code",
   "execution_count": 46,
   "metadata": {},
   "outputs": [
    {
     "name": "stdout",
     "output_type": "stream",
     "text": [
      "[{'id': 'MLB5672', 'name': 'Acessórios para Veículos'}, {'id': 'MLB271599', 'name': 'Agro'}, {'id': 'MLB1403', 'name': 'Alimentos e Bebidas'}, {'id': 'MLB1071', 'name': 'Animais'}, {'id': 'MLB1367', 'name': 'Antiguidades e Coleções'}, {'id': 'MLB1368', 'name': 'Arte, Papelaria e Armarinho'}, {'id': 'MLB1384', 'name': 'Bebês'}, {'id': 'MLB1246', 'name': 'Beleza e Cuidado Pessoal'}, {'id': 'MLB1132', 'name': 'Brinquedos e Hobbies'}, {'id': 'MLB1430', 'name': 'Calçados, Roupas e Bolsas'}, {'id': 'MLB1039', 'name': 'Câmeras e Acessórios'}, {'id': 'MLB1743', 'name': 'Carros, Motos e Outros'}, {'id': 'MLB1574', 'name': 'Casa, Móveis e Decoração'}, {'id': 'MLB1051', 'name': 'Celulares e Telefones'}, {'id': 'MLB1500', 'name': 'Construção'}, {'id': 'MLB5726', 'name': 'Eletrodomésticos'}, {'id': 'MLB1000', 'name': 'Eletrônicos, Áudio e Vídeo'}, {'id': 'MLB1276', 'name': 'Esportes e Fitness'}, {'id': 'MLB263532', 'name': 'Ferramentas'}, {'id': 'MLB12404', 'name': 'Festas e Lembrancinhas'}, {'id': 'MLB1144', 'name': 'Games'}, {'id': 'MLB1459', 'name': 'Imóveis'}, {'id': 'MLB1499', 'name': 'Indústria e Comércio'}, {'id': 'MLB1648', 'name': 'Informática'}, {'id': 'MLB218519', 'name': 'Ingressos'}, {'id': 'MLB1182', 'name': 'Instrumentos Musicais'}, {'id': 'MLB3937', 'name': 'Joias e Relógios'}, {'id': 'MLB1196', 'name': 'Livros, Revistas e Comics'}, {'id': 'MLB1168', 'name': 'Música, Filmes e Seriados'}, {'id': 'MLB264586', 'name': 'Saúde'}, {'id': 'MLB1540', 'name': 'Serviços'}, {'id': 'MLB1953', 'name': 'Mais Categorias'}]\n"
     ]
    }
   ],
   "source": [
    "# Forma atual: Obter token de acesso via navegador, e salvar no arquivo .env\n",
    "ML_ACCESS_TOKEN = os.getenv(\"ML_ACCESS_TOKEN\")\n",
    "\n",
    "SITE_ID = \"MLB\"\n",
    "\n",
    "headers = {\n",
    "    \"Authorization\": f\"Bearer {ML_ACCESS_TOKEN}\"\n",
    "}\n",
    "url = f\"https://api.mercadolibre.com/sites/{SITE_ID}/categories\"\n",
    "resp = requests.get(url, headers=headers)\n",
    "print(resp.json())"
   ]
  },
  {
   "cell_type": "code",
   "execution_count": 47,
   "metadata": {},
   "outputs": [
    {
     "data": {
      "text/html": [
       "<div>\n",
       "<style scoped>\n",
       "    .dataframe tbody tr th:only-of-type {\n",
       "        vertical-align: middle;\n",
       "    }\n",
       "\n",
       "    .dataframe tbody tr th {\n",
       "        vertical-align: top;\n",
       "    }\n",
       "\n",
       "    .dataframe thead th {\n",
       "        text-align: right;\n",
       "    }\n",
       "</style>\n",
       "<table border=\"1\" class=\"dataframe\">\n",
       "  <thead>\n",
       "    <tr style=\"text-align: right;\">\n",
       "      <th></th>\n",
       "      <th>id</th>\n",
       "      <th>name</th>\n",
       "    </tr>\n",
       "  </thead>\n",
       "  <tbody>\n",
       "    <tr>\n",
       "      <th>0</th>\n",
       "      <td>MLB5672</td>\n",
       "      <td>Acessórios para Veículos</td>\n",
       "    </tr>\n",
       "    <tr>\n",
       "      <th>1</th>\n",
       "      <td>MLB271599</td>\n",
       "      <td>Agro</td>\n",
       "    </tr>\n",
       "    <tr>\n",
       "      <th>2</th>\n",
       "      <td>MLB1403</td>\n",
       "      <td>Alimentos e Bebidas</td>\n",
       "    </tr>\n",
       "    <tr>\n",
       "      <th>3</th>\n",
       "      <td>MLB1071</td>\n",
       "      <td>Animais</td>\n",
       "    </tr>\n",
       "    <tr>\n",
       "      <th>4</th>\n",
       "      <td>MLB1367</td>\n",
       "      <td>Antiguidades e Coleções</td>\n",
       "    </tr>\n",
       "  </tbody>\n",
       "</table>\n",
       "</div>"
      ],
      "text/plain": [
       "          id                      name\n",
       "0    MLB5672  Acessórios para Veículos\n",
       "1  MLB271599                      Agro\n",
       "2    MLB1403       Alimentos e Bebidas\n",
       "3    MLB1071                   Animais\n",
       "4    MLB1367   Antiguidades e Coleções"
      ]
     },
     "execution_count": 47,
     "metadata": {},
     "output_type": "execute_result"
    }
   ],
   "source": [
    "cat_df = pd.DataFrame(resp.json())\n",
    "cat_df.head()"
   ]
  },
  {
   "cell_type": "code",
   "execution_count": 5,
   "metadata": {},
   "outputs": [
    {
     "data": {
      "text/plain": [
       "(32, 2)"
      ]
     },
     "execution_count": 5,
     "metadata": {},
     "output_type": "execute_result"
    }
   ],
   "source": [
    "cat_df.shape"
   ]
  },
  {
   "cell_type": "markdown",
   "metadata": {},
   "source": [
    "Temos 32 classes. Como o requisito são 100000 produtos reais, eu vou tentar pegar 3125 (= 100000/32) produtos por categoria. Vou tentar usar a API do Mercado Livre para tal"
   ]
  },
  {
   "cell_type": "code",
   "execution_count": 6,
   "metadata": {},
   "outputs": [
    {
     "data": {
      "text/plain": [
       "{'message': 'forbidden', 'error': 'forbidden', 'status': 403, 'cause': []}"
      ]
     },
     "execution_count": 6,
     "metadata": {},
     "output_type": "execute_result"
    }
   ],
   "source": [
    "cat_id = cat_df.iloc[1][\"id\"]\n",
    "\n",
    "url = f\"https://api.mercadolibre.com/sites/{SITE_ID}/search?category=MLB271599\"\n",
    "res = requests.get(url, headers=headers)\n",
    "res.json()"
   ]
  },
  {
   "cell_type": "markdown",
   "metadata": {},
   "source": [
    "As chamadas GET na rota /sites/MLB/search estão retornando 403 (forbidden), e isso também tem sido reportado por outros desenvolvedores (veja [este artigo no Reddit](https://www.reddit.com/r/devsarg/comments/1jovh3s/quien_de_ustedes_rompi%C3%B3_las_apis_de_mercadolibre/?tl=pt-br)). Portanto, a abordagem vai ser utilizar um scraper para obter os IDs, e depois utilizar a API para obter todas as informações pertinentes àquele produto através da rota /products/search, incluindo descrição e outros detalhes adicionais que não aparecem na página de pesquisa."
   ]
  },
  {
   "cell_type": "code",
   "execution_count": 19,
   "metadata": {},
   "outputs": [
    {
     "name": "stdout",
     "output_type": "stream",
     "text": [
      "Scraping page: https://lista.mercadolivre.com.br/saude_Desde_1_NoIndex_True\n",
      "Scraping page: https://lista.mercadolivre.com.br/saude_Desde_51_NoIndex_True\n"
     ]
    }
   ],
   "source": [
    "import requests\n",
    "from bs4 import BeautifulSoup\n",
    "import time, re\n",
    "\n",
    "BASE_URL = \"https://lista.mercadolivre.com.br\"\n",
    "\n",
    "def scrape_product_ids_from_search(search_query, max_products=3125, pause=1.5):\n",
    "    product_ids = []\n",
    "    offset = 0\n",
    "    per_page = 50  # ML mostra 50 produtos por página\n",
    "\n",
    "    while len(product_ids) < max_products:\n",
    "        url = f\"{BASE_URL}/{search_query}_Desde_{offset+1}_NoIndex_True\"\n",
    "        print(f\"Scraping page: {url}\")\n",
    "        response = requests.get(url, headers={\"User-Agent\": \"Mozilla/5.0\"})\n",
    "\n",
    "        if response.status_code != 200:\n",
    "            print(f\"Erro ao acessar: {url} (status code: {response.status_code})\")\n",
    "            break\n",
    "\n",
    "        matches = re.findall(r'\"product_id\":\"(MLB\\d+)\"', response.text)\n",
    "        unique_ids = list(set(matches))\n",
    "\n",
    "        product_ids.extend(unique_ids)\n",
    "        offset += per_page\n",
    "        time.sleep(pause)\n",
    "\n",
    "    return list(set(product_ids)) # Retornar só produtos unicos\n",
    "\n",
    "products_saude = scrape_product_ids_from_search('saude', max_products=50)"
   ]
  },
  {
   "cell_type": "code",
   "execution_count": 9,
   "metadata": {},
   "outputs": [
    {
     "data": {
      "text/plain": [
       "['MLB20985074',\n",
       " 'MLB27368691',\n",
       " 'MLB36188176',\n",
       " 'MLB26751804',\n",
       " 'MLB39310342',\n",
       " 'MLB40442951',\n",
       " 'MLB34725109',\n",
       " 'MLB19550318',\n",
       " 'MLB24336854',\n",
       " 'MLB44030086',\n",
       " 'MLB42973846',\n",
       " 'MLB24000050',\n",
       " 'MLB27140042',\n",
       " 'MLB21030116',\n",
       " 'MLB21814751',\n",
       " 'MLB25106068',\n",
       " 'MLB19764367',\n",
       " 'MLB43079569',\n",
       " 'MLB49899899',\n",
       " 'MLB36780934',\n",
       " 'MLB35509572',\n",
       " 'MLB34955576',\n",
       " 'MLB25928611',\n",
       " 'MLB28364092',\n",
       " 'MLB29341204',\n",
       " 'MLB42598574',\n",
       " 'MLB19403465',\n",
       " 'MLB23799398',\n",
       " 'MLB22823332',\n",
       " 'MLB28508942',\n",
       " 'MLB38478946',\n",
       " 'MLB18930516',\n",
       " 'MLB43269452',\n",
       " 'MLB36479661',\n",
       " 'MLB35810512',\n",
       " 'MLB43941545',\n",
       " 'MLB21716129',\n",
       " 'MLB27064907',\n",
       " 'MLB48929392',\n",
       " 'MLB49900617',\n",
       " 'MLB49869909',\n",
       " 'MLB21652882',\n",
       " 'MLB19533113',\n",
       " 'MLB25708438',\n",
       " 'MLB19549989',\n",
       " 'MLB19444422',\n",
       " 'MLB48929367',\n",
       " 'MLB43057902',\n",
       " 'MLB43015849',\n",
       " 'MLB24853579',\n",
       " 'MLB19930040',\n",
       " 'MLB19766958',\n",
       " 'MLB26666122',\n",
       " 'MLB46254996',\n",
       " 'MLB24044627',\n",
       " 'MLB28876499',\n",
       " 'MLB19446333',\n",
       " 'MLB21004742',\n",
       " 'MLB24803533',\n",
       " 'MLB40063121',\n",
       " 'MLB44354494',\n",
       " 'MLB32372413',\n",
       " 'MLB21789455',\n",
       " 'MLB32337695',\n",
       " 'MLB26209042',\n",
       " 'MLB40656619',\n",
       " 'MLB29522413',\n",
       " 'MLB43297123',\n",
       " 'MLB29146190',\n",
       " 'MLB36811574',\n",
       " 'MLB48943729',\n",
       " 'MLB39208707',\n",
       " 'MLB28870255',\n",
       " 'MLB19550758',\n",
       " 'MLB19380860',\n",
       " 'MLB26512364',\n",
       " 'MLB22564882',\n",
       " 'MLB28888175',\n",
       " 'MLB19548907',\n",
       " 'MLB18758147',\n",
       " 'MLB19776320',\n",
       " 'MLB19444423',\n",
       " 'MLB28869863',\n",
       " 'MLB44909557',\n",
       " 'MLB44551375',\n",
       " 'MLB14954225',\n",
       " 'MLB27217928',\n",
       " 'MLB33579589',\n",
       " 'MLB15068174',\n",
       " 'MLB23900238',\n",
       " 'MLB24641842']"
      ]
     },
     "execution_count": 9,
     "metadata": {},
     "output_type": "execute_result"
    }
   ],
   "source": [
    "products_saude"
   ]
  },
  {
   "cell_type": "markdown",
   "metadata": {},
   "source": [
    "Pelo que entendi da documentação da API, existem itens e existem produtos. Um produto pode ter mais de um item associado (seria anúncio?). Tentei usar a rota /items?ids=$ITEM_ID por ela aceitar solicitar até 20 itens por chamada (preocupação com rate limit), porém também está dando forbidden (erro 403). Então terei que usar a rota /products/search"
   ]
  },
  {
   "cell_type": "code",
   "execution_count": 25,
   "metadata": {},
   "outputs": [
    {
     "data": {
      "text/plain": [
       "[{'code': 403,\n",
       "  'body': {'id': 'MLB4736223674',\n",
       "   'message': 'Access to the requested resource is forbidden',\n",
       "   'error': 'access_denied',\n",
       "   'status': 403,\n",
       "   'cause': None}}]"
      ]
     },
     "execution_count": 25,
     "metadata": {},
     "output_type": "execute_result"
    }
   ],
   "source": [
    "def get_item_info(item_id):\n",
    "    url = f\"https://api.mercadolibre.com/items?ids={item_id}\"\n",
    "    res = requests.get(url, headers=headers)\n",
    "    return res.json()\n",
    "\n",
    "item_info = get_item_info(\"MLB4736223674\")\n",
    "\n",
    "item_info"
   ]
  },
  {
   "cell_type": "code",
   "execution_count": 43,
   "metadata": {},
   "outputs": [
    {
     "name": "stdout",
     "output_type": "stream",
     "text": [
      "https://api.mercadolibre.com/products/search?status=active&site_id=MLB&product_identifier=MLB36188176\n"
     ]
    },
    {
     "data": {
      "text/plain": [
       "{'keywords': 'MLB36188176',\n",
       " 'domain_id': 'MLB-FILLING_MICROCANNULAS',\n",
       " 'paging': {'total': 1, 'limit': 10, 'offset': 0},\n",
       " 'results': [{'id': 'MLB36188176',\n",
       "   'date_created': '2024-04-24T22:50:48Z',\n",
       "   'catalog_product_id': 'MLB36188176',\n",
       "   'pdp_types': [],\n",
       "   'status': 'active',\n",
       "   'domain_id': 'MLB-FILLING_MICROCANNULAS',\n",
       "   'settings': {'listing_strategy': 'open', 'exclusive': False},\n",
       "   'name': 'Microcânula 22g X 50mm Caixa Com 10 Unidades - Smart Gr',\n",
       "   'main_features': [],\n",
       "   'attributes': [{'id': 'BRAND',\n",
       "     'name': 'Marca',\n",
       "     'value_id': '12326016',\n",
       "     'value_name': 'Smart GR'},\n",
       "    {'id': 'MODEL',\n",
       "     'name': 'Modelo',\n",
       "     'value_id': '36909331',\n",
       "     'value_name': 'Smart Micro Cânula 22g X 50mm'},\n",
       "    {'id': 'SALE_FORMAT',\n",
       "     'name': 'Formato de venda',\n",
       "     'value_id': '1359392',\n",
       "     'value_name': 'Kit'},\n",
       "    {'id': 'UNITS_PER_PACK',\n",
       "     'name': 'Unidades por kit',\n",
       "     'value_id': '150349',\n",
       "     'value_name': '10'},\n",
       "    {'id': 'UNITS_PER_PACKAGE',\n",
       "     'name': 'Unidades por embalagem',\n",
       "     'value_id': '7386989',\n",
       "     'value_name': '1'},\n",
       "    {'id': 'CANNULA_CAPACITY',\n",
       "     'name': 'Capacidade da cânula',\n",
       "     'value_id': '32282983',\n",
       "     'value_name': '22 g'},\n",
       "    {'id': 'THICKNESS',\n",
       "     'name': 'Espessura',\n",
       "     'value_id': '19901040',\n",
       "     'value_name': '5 cm'},\n",
       "    {'id': 'IS_FLEXIBLE',\n",
       "     'name': 'É flexível',\n",
       "     'value_id': '242085',\n",
       "     'value_name': 'Sim'}],\n",
       "   'pictures': [{'id': '973639-MLA83279088727_032025',\n",
       "     'url': 'https://http2.mlstatic.com/D_NQ_NP_973639-MLA83279088727_032025-F.jpg'},\n",
       "    {'id': '821813-MLA83279039885_032025',\n",
       "     'url': 'https://http2.mlstatic.com/D_NQ_NP_821813-MLA83279039885_032025-F.jpg'},\n",
       "    {'id': '836349-MLA83278964183_032025',\n",
       "     'url': 'https://http2.mlstatic.com/D_NQ_NP_836349-MLA83278964183_032025-F.jpg'},\n",
       "    {'id': '891980-MLA83279039897_032025',\n",
       "     'url': 'https://http2.mlstatic.com/D_NQ_NP_891980-MLA83279039897_032025-F.jpg'},\n",
       "    {'id': '961232-MLA83279078853_032025',\n",
       "     'url': 'https://http2.mlstatic.com/D_NQ_NP_961232-MLA83279078853_032025-F.jpg'},\n",
       "    {'id': '880053-MLA83278964193_032025',\n",
       "     'url': 'https://http2.mlstatic.com/D_NQ_NP_880053-MLA83278964193_032025-F.jpg'}],\n",
       "   'parent_id': 'MLB36188175',\n",
       "   'children_ids': [],\n",
       "   'quality_type': 'COMPLETE',\n",
       "   'priority': 'MEDIUM',\n",
       "   'type': 'PRODUCT',\n",
       "   'site_id': 'MLB',\n",
       "   'keywords': 'Microcânula 22g X 50mm Caixa Com 10 Unidades - Smart Gr',\n",
       "   'variations': [],\n",
       "   'description': ''}],\n",
       " 'used_attributes': [],\n",
       " 'query_type': 'PRODUCT_ID'}"
      ]
     },
     "execution_count": 43,
     "metadata": {},
     "output_type": "execute_result"
    }
   ],
   "source": [
    "def get_product_info(product_id):\n",
    "    url = f\"https://api.mercadolibre.com/products/search?status=active&site_id=MLB&product_identifier={product_id}\"\n",
    "    print(url)\n",
    "    res = requests.get(url, headers=headers)\n",
    "    return res.json()\n",
    "\n",
    "prod_info = get_product_info(products_saude[2])\n",
    "\n",
    "prod_info"
   ]
  },
  {
   "cell_type": "code",
   "execution_count": null,
   "metadata": {},
   "outputs": [
    {
     "data": {
      "text/plain": [
       "{'keywords': 'a',\n",
       " 'paging': {'total': 0, 'limit': 10, 'offset': 0},\n",
       " 'results': [],\n",
       " 'used_attributes': [],\n",
       " 'query_type': 'PRODUCT_NAME'}"
      ]
     },
     "execution_count": 31,
     "metadata": {},
     "output_type": "execute_result"
    }
   ],
   "source": []
  }
 ],
 "metadata": {
  "kernelspec": {
   "display_name": "hazmat-classifier-py3.12",
   "language": "python",
   "name": "python3"
  },
  "language_info": {
   "codemirror_mode": {
    "name": "ipython",
    "version": 3
   },
   "file_extension": ".py",
   "mimetype": "text/x-python",
   "name": "python",
   "nbconvert_exporter": "python",
   "pygments_lexer": "ipython3",
   "version": "3.12.10"
  }
 },
 "nbformat": 4,
 "nbformat_minor": 2
}
